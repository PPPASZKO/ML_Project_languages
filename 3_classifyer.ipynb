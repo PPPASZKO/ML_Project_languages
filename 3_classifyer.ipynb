{
 "cells": [
  {
   "cell_type": "markdown",
   "id": "6a84f46e-582f-4103-b7da-12ca8c622055",
   "metadata": {},
   "source": [
    "### Stworzenie sieci neuronowej\n",
    "#### Wykorzystałem sieć neuronową trzywarstwą ponieważ przynosiła najlepsze wyniki po walidacji modelu (modele 2 i 4 warstwowe przynosiły gorsze wyniki). Dwie pierwsze warstwy posiadają funkcje aktywacji ReLu, która na wszystkich wyjściach zwraca wynik funkcji max(0, x), czyli masimum dla wartości dodatnich i 0 dla wartości ujemnych. Ostatnia warstwa nie posiada funkcji aktywacji (miałem wykorzystać funkcję softmax, ale w związku z wykorzystaniem podczas trenowania, funkcji straty Cross Entropy Loss, która wykonuje softmax wewnętrzne przed wykonaniem obliczeń, nie ma takiej potrzeny)."
   ]
  },
  {
   "cell_type": "code",
   "execution_count": 1,
   "id": "740ef742-a9d3-42db-a1bd-10bfc953eab6",
   "metadata": {},
   "outputs": [],
   "source": [
    "import torch \n",
    "from torch import nn\n",
    "import numpy as np\n",
    "class LangClassifier(nn.Module): # utworzenie sieci neuronowej\n",
    "    def __init__(self):\n",
    "        super().__init__()        \n",
    "        self.mlp = nn.Sequential(\n",
    "            nn.Linear(384, 200),\n",
    "            nn.ReLU(),          \n",
    "            nn.Linear(200, 100),\n",
    "            nn.ReLU(),\n",
    "            nn.Linear(100, 20),\n",
    "        )\n",
    "    \n",
    "    def forward(self, x):\n",
    "        return self.mlp(x)"
   ]
  },
  {
   "cell_type": "markdown",
   "id": "e2c6afbd-87d3-4e8a-9553-b39a99a326bb",
   "metadata": {},
   "source": [
    "### Pobranie i podzielenie wcześniej przygotowanych danych"
   ]
  },
  {
   "cell_type": "code",
   "execution_count": 6,
   "id": "35c09f11-274e-4a41-a648-fc4f89adb5e0",
   "metadata": {},
   "outputs": [],
   "source": [
    "import pandas as pd \n",
    "# Wczytuje dane z embendingami\n",
    "df = pd.read_feather(\"dataset/languages_with_embeddings.bin\")"
   ]
  },
  {
   "cell_type": "code",
   "execution_count": 7,
   "id": "6ea72150-4b99-4975-8fa4-05354c462a2c",
   "metadata": {},
   "outputs": [
    {
     "data": {
      "text/html": [
       "<div>\n",
       "<style scoped>\n",
       "    .dataframe tbody tr th:only-of-type {\n",
       "        vertical-align: middle;\n",
       "    }\n",
       "\n",
       "    .dataframe tbody tr th {\n",
       "        vertical-align: top;\n",
       "    }\n",
       "\n",
       "    .dataframe thead th {\n",
       "        text-align: right;\n",
       "    }\n",
       "</style>\n",
       "<table border=\"1\" class=\"dataframe\">\n",
       "  <thead>\n",
       "    <tr style=\"text-align: right;\">\n",
       "      <th></th>\n",
       "      <th>Unnamed: 0</th>\n",
       "      <th>labels</th>\n",
       "      <th>text</th>\n",
       "      <th>enc_labels</th>\n",
       "      <th>embeddings</th>\n",
       "    </tr>\n",
       "  </thead>\n",
       "  <tbody>\n",
       "    <tr>\n",
       "      <th>43739</th>\n",
       "      <td>43739</td>\n",
       "      <td>pl</td>\n",
       "      <td>irak lobbował na rzecz rady bezpieczeństwa, by...</td>\n",
       "      <td>11</td>\n",
       "      <td>[-0.09441936, 0.1498231, -0.10541683, 0.008297...</td>\n",
       "    </tr>\n",
       "    <tr>\n",
       "      <th>35818</th>\n",
       "      <td>35818</td>\n",
       "      <td>sw</td>\n",
       "      <td>Kwa hakika , i , i mwaka jana .</td>\n",
       "      <td>14</td>\n",
       "      <td>[-0.081501804, 0.14022341, -0.04914736, 0.0101...</td>\n",
       "    </tr>\n",
       "    <tr>\n",
       "      <th>49034</th>\n",
       "      <td>49034</td>\n",
       "      <td>el</td>\n",
       "      <td>Οι αξιολογήσεις της nielsen δείχνουν ότι οι νέ...</td>\n",
       "      <td>3</td>\n",
       "      <td>[-0.048229992, 0.06984926, 0.018829627, -0.019...</td>\n",
       "    </tr>\n",
       "    <tr>\n",
       "      <th>63771</th>\n",
       "      <td>63771</td>\n",
       "      <td>it</td>\n",
       "      <td>La Corea del Nord fa progressi \"significativi\"...</td>\n",
       "      <td>8</td>\n",
       "      <td>[0.0073714918, 0.07323343, -0.07855317, 0.0130...</td>\n",
       "    </tr>\n",
       "    <tr>\n",
       "      <th>45200</th>\n",
       "      <td>45200</td>\n",
       "      <td>ur</td>\n",
       "      <td>جی ہاں میں عام طور پر ایک سال سے زیادہ عرصہ می...</td>\n",
       "      <td>17</td>\n",
       "      <td>[0.09197652, 0.030413011, -0.046798475, 0.0229...</td>\n",
       "    </tr>\n",
       "    <tr>\n",
       "      <th>24481</th>\n",
       "      <td>24481</td>\n",
       "      <td>sw</td>\n",
       "      <td>Well see i didn ' t either mpaka ni</td>\n",
       "      <td>14</td>\n",
       "      <td>[0.005001271, 0.02950328, -0.0291192, -0.03092...</td>\n",
       "    </tr>\n",
       "    <tr>\n",
       "      <th>6844</th>\n",
       "      <td>6844</td>\n",
       "      <td>ar</td>\n",
       "      <td>انت اردت عمي ( ديفيد ارنولد هانسون ) .</td>\n",
       "      <td>0</td>\n",
       "      <td>[0.019821683, 0.036433343, -0.013465836, -0.02...</td>\n",
       "    </tr>\n",
       "    <tr>\n",
       "      <th>21884</th>\n",
       "      <td>21884</td>\n",
       "      <td>hi</td>\n",
       "      <td>शोध और विकास</td>\n",
       "      <td>7</td>\n",
       "      <td>[-0.0115932785, 0.16010122, -0.07427981, -0.03...</td>\n",
       "    </tr>\n",
       "    <tr>\n",
       "      <th>43462</th>\n",
       "      <td>43462</td>\n",
       "      <td>en</td>\n",
       "      <td>The app for this is probably the main reason f...</td>\n",
       "      <td>4</td>\n",
       "      <td>[-0.035440657, -0.043055307, 0.026748372, -0.0...</td>\n",
       "    </tr>\n",
       "    <tr>\n",
       "      <th>7438</th>\n",
       "      <td>7438</td>\n",
       "      <td>tr</td>\n",
       "      <td>Her ikisi için de son çok güzel gün bayan , mu...</td>\n",
       "      <td>16</td>\n",
       "      <td>[-0.09303257, 0.095158644, -0.023077892, -0.01...</td>\n",
       "    </tr>\n",
       "  </tbody>\n",
       "</table>\n",
       "</div>"
      ],
      "text/plain": [
       "       Unnamed: 0 labels                                               text  \\\n",
       "43739       43739     pl  irak lobbował na rzecz rady bezpieczeństwa, by...   \n",
       "35818       35818     sw                    Kwa hakika , i , i mwaka jana .   \n",
       "49034       49034     el  Οι αξιολογήσεις της nielsen δείχνουν ότι οι νέ...   \n",
       "63771       63771     it  La Corea del Nord fa progressi \"significativi\"...   \n",
       "45200       45200     ur  جی ہاں میں عام طور پر ایک سال سے زیادہ عرصہ می...   \n",
       "24481       24481     sw                Well see i didn ' t either mpaka ni   \n",
       "6844         6844     ar             انت اردت عمي ( ديفيد ارنولد هانسون ) .   \n",
       "21884       21884     hi                                       शोध और विकास   \n",
       "43462       43462     en  The app for this is probably the main reason f...   \n",
       "7438         7438     tr  Her ikisi için de son çok güzel gün bayan , mu...   \n",
       "\n",
       "       enc_labels                                         embeddings  \n",
       "43739          11  [-0.09441936, 0.1498231, -0.10541683, 0.008297...  \n",
       "35818          14  [-0.081501804, 0.14022341, -0.04914736, 0.0101...  \n",
       "49034           3  [-0.048229992, 0.06984926, 0.018829627, -0.019...  \n",
       "63771           8  [0.0073714918, 0.07323343, -0.07855317, 0.0130...  \n",
       "45200          17  [0.09197652, 0.030413011, -0.046798475, 0.0229...  \n",
       "24481          14  [0.005001271, 0.02950328, -0.0291192, -0.03092...  \n",
       "6844            0  [0.019821683, 0.036433343, -0.013465836, -0.02...  \n",
       "21884           7  [-0.0115932785, 0.16010122, -0.07427981, -0.03...  \n",
       "43462           4  [-0.035440657, -0.043055307, 0.026748372, -0.0...  \n",
       "7438           16  [-0.09303257, 0.095158644, -0.023077892, -0.01...  "
      ]
     },
     "execution_count": 7,
     "metadata": {},
     "output_type": "execute_result"
    }
   ],
   "source": [
    "# dokonuję losowego przetasowania\n",
    "df = df.sample(frac=1.0)\n",
    "# Dzielę dane na treningowe, validacyjne i testowe (50k, 10k, 10k) \n",
    "train_df = df[:50000] # dane do treningowe\n",
    "val_df = df[50000:60000] # dane validacyjne\n",
    "test_df = df[60000:] # dane testowe\n",
    "train_df.head(n=10)"
   ]
  },
  {
   "cell_type": "markdown",
   "id": "49cbc248-952d-4c85-b08a-5709ddecb79c",
   "metadata": {},
   "source": [
    "### Trenowanie i walidacja modelu oraz wykorzystanie metryki accuracy do klasyfikacji wieloklasowej"
   ]
  },
  {
   "cell_type": "code",
   "execution_count": 139,
   "id": "681bf1dc-8f89-4952-9e47-f3e44c607b11",
   "metadata": {
    "scrolled": true
   },
   "outputs": [
    {
     "data": {
      "application/vnd.jupyter.widget-view+json": {
       "model_id": "787b5b6d5c2641a8b936a685e691c4dd",
       "version_major": 2,
       "version_minor": 0
      },
      "text/plain": [
       "  0%|          | 0/10 [00:00<?, ?it/s]"
      ]
     },
     "metadata": {},
     "output_type": "display_data"
    },
    {
     "data": {
      "application/vnd.jupyter.widget-view+json": {
       "model_id": "5d690e20de0841cd8f01c6aa541cd043",
       "version_major": 2,
       "version_minor": 0
      },
      "text/plain": [
       "evaluating: 0it [00:00, ?it/s]"
      ]
     },
     "metadata": {},
     "output_type": "display_data"
    },
    {
     "data": {
      "application/vnd.jupyter.widget-view+json": {
       "model_id": "950a6ec3aefa4c90a826f63abd4579ae",
       "version_major": 2,
       "version_minor": 0
      },
      "text/plain": [
       "evaluating: 0it [00:00, ?it/s]"
      ]
     },
     "metadata": {},
     "output_type": "display_data"
    },
    {
     "data": {
      "application/vnd.jupyter.widget-view+json": {
       "model_id": "1b9bf8cdcb8a49109efe94a2f216eb4a",
       "version_major": 2,
       "version_minor": 0
      },
      "text/plain": [
       "evaluating: 0it [00:00, ?it/s]"
      ]
     },
     "metadata": {},
     "output_type": "display_data"
    },
    {
     "data": {
      "application/vnd.jupyter.widget-view+json": {
       "model_id": "908833b8f7614014914d17bc231da8b8",
       "version_major": 2,
       "version_minor": 0
      },
      "text/plain": [
       "evaluating: 0it [00:00, ?it/s]"
      ]
     },
     "metadata": {},
     "output_type": "display_data"
    },
    {
     "data": {
      "application/vnd.jupyter.widget-view+json": {
       "model_id": "354a586d7bd4472dbda6035c13c0764b",
       "version_major": 2,
       "version_minor": 0
      },
      "text/plain": [
       "evaluating: 0it [00:00, ?it/s]"
      ]
     },
     "metadata": {},
     "output_type": "display_data"
    },
    {
     "data": {
      "application/vnd.jupyter.widget-view+json": {
       "model_id": "f1520ab7dc984828a08c406252a61994",
       "version_major": 2,
       "version_minor": 0
      },
      "text/plain": [
       "evaluating: 0it [00:00, ?it/s]"
      ]
     },
     "metadata": {},
     "output_type": "display_data"
    },
    {
     "data": {
      "application/vnd.jupyter.widget-view+json": {
       "model_id": "56037df3cf554357a73ed052ff7c4308",
       "version_major": 2,
       "version_minor": 0
      },
      "text/plain": [
       "evaluating: 0it [00:00, ?it/s]"
      ]
     },
     "metadata": {},
     "output_type": "display_data"
    },
    {
     "data": {
      "application/vnd.jupyter.widget-view+json": {
       "model_id": "95212e32141c489cb62551e3376e348e",
       "version_major": 2,
       "version_minor": 0
      },
      "text/plain": [
       "evaluating: 0it [00:00, ?it/s]"
      ]
     },
     "metadata": {},
     "output_type": "display_data"
    },
    {
     "data": {
      "application/vnd.jupyter.widget-view+json": {
       "model_id": "c39798a13cce49e6b43566f749e733db",
       "version_major": 2,
       "version_minor": 0
      },
      "text/plain": [
       "evaluating: 0it [00:00, ?it/s]"
      ]
     },
     "metadata": {},
     "output_type": "display_data"
    },
    {
     "data": {
      "application/vnd.jupyter.widget-view+json": {
       "model_id": "a46135d2610c43c29314343041608c38",
       "version_major": 2,
       "version_minor": 0
      },
      "text/plain": [
       "evaluating: 0it [00:00, ?it/s]"
      ]
     },
     "metadata": {},
     "output_type": "display_data"
    },
    {
     "data": {
      "text/plain": [
       "<All keys matched successfully>"
      ]
     },
     "execution_count": 139,
     "metadata": {},
     "output_type": "execute_result"
    }
   ],
   "source": [
    "from torchmetrics import Accuracy\n",
    "from tqdm.notebook import tqdm\n",
    "import numpy as np\n",
    "from torch.utils.tensorboard import SummaryWriter\n",
    "\n",
    "writer = SummaryWriter() # inicializacja narzędzia do rejestrowania danych i metryk podczas treningu modelu w PyTorch z biblioteki TensorBoard, która pozwala na wizualizację i monitorowanie danych\n",
    "model = LangClassifier() # zdefiniowanie instancji naszego modelu sieci neuronowej\n",
    "ce_loss = nn.CrossEntropyLoss() # Zastosowanie funkcji straty Cross-Entropy Loss, która związana jest z wieloklasową klasyfikacją\n",
    "\n",
    "batch_size = 100 # ustawienie paczki danych, które są obrabiane na raz podczas jednej pętli w danej epoce w czasie uczenia się (wybrałem sto celem umożliwienia sprawnego trenowania)\n",
    "adam_optimizer = torch.optim.Adam(model.parameters()) # Zastosowanie optymalizatora Adam\n",
    "nr_of_epochs = 10\n",
    "losses = []\n",
    "best_accuracy = 0.0\n",
    "best_accuracy_epoch = 0\n",
    "for epoch in tqdm(range(nr_of_epochs)):\n",
    "    \n",
    "    train_df = train_df.sample(frac=1.0)  # losowe przetasowanie całego treningowego_dataframe (frac=1.0 - oznacza żeby funkcja sample zwróciła cały przetasowany df) \n",
    "    current_index = 0 # ustawienie indeksu na 0 dla pętli while liczenia kolejnej epoki\n",
    "    while current_index < len(train_df): # jeżeli obecny index jest mniejszy niż ostatni ro wykonuj się       \n",
    "        # Najpierw tworzą się próbki danych x - embeddnings i y - encoded labels (najperw wiciągam listy z kolumn naszego df i tworzę z nich tablicę)\n",
    "        batch_x = np.array(\n",
    "            train_df.embeddings[current_index:(current_index + batch_size)].tolist()\n",
    "        )\n",
    "        batch_y = np.array(\n",
    "            train_df.enc_labels[current_index: (current_index + batch_size)].tolist()\n",
    "        )\n",
    "\n",
    "        # Następnie tworzę z tablic tensory potrzebne do wykonania trenowania\n",
    "        tensor_batch_x = torch.Tensor(batch_x)\n",
    "        tensor_batch_y = torch.Tensor(batch_y)\n",
    "\n",
    "        # Tu następuje predykcja i obliczenie funkcji straty\n",
    "        pred = model.forward(tensor_batch_x) \n",
    "        loss = ce_loss(pred, tensor_batch_y.long())\n",
    " \n",
    "        # Backpropagation\n",
    "        loss.backward() # Liczenie gradientu wag modelu - czyli wektorów wskazujących na kierunek zmian wag\n",
    "        adam_optimizer.step() # adam oblicza nowe parametry sieci na podstawie obliczonych gradientów\n",
    "        adam_optimizer.zero_grad()\n",
    "        \n",
    "        losses.append(float(loss.detach().numpy())) # wyodrębniam wartość funkcji straty z tensora PyTorch loss, a następnie konwertuje ją na liczbę zmiennoprzecinkową i dodaje do listy losses.\n",
    "        current_index += batch_size\n",
    "    \n",
    "    model.eval() # ustawienie modelu w tryb ewaluacji celem umożliwienia prawidłowej ewaluacji (niektóre warstwy modelu zachowują się inaczej w tym trybie)\n",
    "    metric = Accuracy(task='MULTICLASS', num_classes=20) # utworzenie obiektu metryki Accuracy do klasyfikacji wieloklasowej (liczba klas 20)\n",
    "    for _, eval_row in tqdm(val_df.iterrows(), desc='evaluating'): # iteracja pętli po każdym wierszu val_df (danych walidacyjnych)\n",
    "        pred = model.forward(\n",
    "            torch.Tensor(np.array(eval_row.embeddings)) # obliczenie predykcji dla linijki danych walidacyjnych\n",
    "        )\n",
    "        metric.update(torch.argmax(pred).unsqueeze(0), torch.Tensor([eval_row.enc_labels])) # zupdatowanie predykcji w metryce porównując do właściej wartości\n",
    "    metric_value = metric.compute() # obliczenie wartości metryki Accuracy na podstawie wszystkich uaktualnień przeprowadzonych podczas iteracji po danych walidacyjnych\n",
    "    writer.add_scalar('Accuracy/eval', metric_value, epoch) # metryki do rejestratora potrzebnego do wyświetlenia w TensorBoard\n",
    "    \n",
    "    if metric_value > best_accuracy:\n",
    "        best_accuracy = metric_value\n",
    "        best_accuracy_epoch = epoch\n",
    "        torch.save(model.state_dict(), 'best_model.pth') # zapisz model jeżeli jest lepszy od poprzednio zapisanego\n",
    "\n",
    "model.load_state_dict(torch.load('best_model.pth'))  # załaduj wagi z zapisanego najlepszego  modelu"
   ]
  },
  {
   "cell_type": "code",
   "execution_count": 141,
   "id": "b3384b39-949d-4c5d-97e8-11d6cc707727",
   "metadata": {},
   "outputs": [
    {
     "name": "stdout",
     "output_type": "stream",
     "text": [
      "Najlepsza dokładność modelu została osiągnięta w 7 epoce i wynosiła 98.0%\n"
     ]
    }
   ],
   "source": [
    "print(f\"Najlepsza dokładność modelu została osiągnięta w {best_accuracy_epoch} epoce i wynosiła {best_accuracy*100}%\")"
   ]
  },
  {
   "cell_type": "markdown",
   "id": "566ec477-8aa5-4d3f-962a-4e9254dba8bc",
   "metadata": {},
   "source": [
    "### Wykers dokładności predykcji\n",
    "#### Aby wyświetlić wykres dokładności predykcji w kolejnych epokach na podsawie danych zapisanych w utworzonym folderze runs należy wykorzystać TensorBoard\n",
    "#### Komenda do terminala: \"tensorboard --logdir=runs\"\n"
   ]
  },
  {
   "cell_type": "code",
   "execution_count": 142,
   "id": "8c32cb8a-f99a-4a4e-9d0d-4b1566917666",
   "metadata": {},
   "outputs": [
    {
     "data": {
      "text/plain": [
       "[<matplotlib.lines.Line2D at 0x7349f23d9810>]"
      ]
     },
     "execution_count": 142,
     "metadata": {},
     "output_type": "execute_result"
    },
    {
     "data": {
      "image/png": "[encoded data removed]",
      "text/plain": [
       "<Figure size 640x480 with 1 Axes>"
      ]
     },
     "metadata": {},
     "output_type": "display_data"
    }
   ],
   "source": [
    "# dodatkowo wyświetlenie wykresu z listą zapisanych strat\n",
    "import matplotlib.pyplot as plt\n",
    "plt.plot(losses)"
   ]
  },
  {
   "cell_type": "markdown",
   "id": "353a3eed-dc86-4d24-a24b-5a99c56093ac",
   "metadata": {},
   "source": [
    "### Testowanie modelu"
   ]
  },
  {
   "cell_type": "code",
   "execution_count": 143,
   "id": "22a6113a-0763-45fd-9b0f-de7a21bb586d",
   "metadata": {},
   "outputs": [
    {
     "data": {
      "text/html": [
       "<div>\n",
       "<style scoped>\n",
       "    .dataframe tbody tr th:only-of-type {\n",
       "        vertical-align: middle;\n",
       "    }\n",
       "\n",
       "    .dataframe tbody tr th {\n",
       "        vertical-align: top;\n",
       "    }\n",
       "\n",
       "    .dataframe thead th {\n",
       "        text-align: right;\n",
       "    }\n",
       "</style>\n",
       "<table border=\"1\" class=\"dataframe\">\n",
       "  <thead>\n",
       "    <tr style=\"text-align: right;\">\n",
       "      <th></th>\n",
       "      <th>Unnamed: 0</th>\n",
       "      <th>labels</th>\n",
       "      <th>text</th>\n",
       "      <th>enc_labels</th>\n",
       "      <th>embeddings</th>\n",
       "    </tr>\n",
       "  </thead>\n",
       "  <tbody>\n",
       "    <tr>\n",
       "      <th>25542</th>\n",
       "      <td>25542</td>\n",
       "      <td>pl</td>\n",
       "      <td>Chapman nie został natychmiast aresztowany i o...</td>\n",
       "      <td>11</td>\n",
       "      <td>[-0.037656464, 0.10963181, -0.0625423, 0.03107...</td>\n",
       "    </tr>\n",
       "    <tr>\n",
       "      <th>11899</th>\n",
       "      <td>11899</td>\n",
       "      <td>es</td>\n",
       "      <td>Estoy contenta con la compra, cuando meto las ...</td>\n",
       "      <td>5</td>\n",
       "      <td>[0.09058217, 0.08858652, 0.0128650265, -0.1038...</td>\n",
       "    </tr>\n",
       "    <tr>\n",
       "      <th>47626</th>\n",
       "      <td>47626</td>\n",
       "      <td>vi</td>\n",
       "      <td>Tôi không giúp họ tôi làm việc với họ không ph...</td>\n",
       "      <td>18</td>\n",
       "      <td>[-0.08829949, 0.018498808, -0.05205665, -0.081...</td>\n",
       "    </tr>\n",
       "    <tr>\n",
       "      <th>57541</th>\n",
       "      <td>57541</td>\n",
       "      <td>zh</td>\n",
       "      <td>这是网购以来，收货耗时最久的一次，不是之一。比双11还久。10月6日发出订单，直到20日才到...</td>\n",
       "      <td>19</td>\n",
       "      <td>[0.07296511, 0.040647928, 0.1040279, -0.005607...</td>\n",
       "    </tr>\n",
       "    <tr>\n",
       "      <th>17575</th>\n",
       "      <td>17575</td>\n",
       "      <td>zh</td>\n",
       "      <td>就像书里说的，看完之后，在互联网时代收获一份平静</td>\n",
       "      <td>19</td>\n",
       "      <td>[0.016383432, 0.09206814, 0.08663628, 0.006355...</td>\n",
       "    </tr>\n",
       "    <tr>\n",
       "      <th>11160</th>\n",
       "      <td>11160</td>\n",
       "      <td>tr</td>\n",
       "      <td>Bunlar yüksek standartlarını korumuş olan bir ...</td>\n",
       "      <td>16</td>\n",
       "      <td>[-0.028618196, 0.0981894, -0.009314199, -0.025...</td>\n",
       "    </tr>\n",
       "    <tr>\n",
       "      <th>43295</th>\n",
       "      <td>43295</td>\n",
       "      <td>es</td>\n",
       "      <td>El calzador va bien para no agacharse pero hay...</td>\n",
       "      <td>5</td>\n",
       "      <td>[0.024856113, -0.003522059, 4.7007647e-06, -0....</td>\n",
       "    </tr>\n",
       "    <tr>\n",
       "      <th>53592</th>\n",
       "      <td>53592</td>\n",
       "      <td>en</td>\n",
       "      <td>I love this product!!!! What I like the most i...</td>\n",
       "      <td>4</td>\n",
       "      <td>[-0.06358813, -0.08612435, 0.054177534, -0.027...</td>\n",
       "    </tr>\n",
       "    <tr>\n",
       "      <th>15372</th>\n",
       "      <td>15372</td>\n",
       "      <td>ru</td>\n",
       "      <td>К числу результатов этих проблем относятся уве...</td>\n",
       "      <td>13</td>\n",
       "      <td>[0.029102057, 0.019167429, 0.019533556, -0.017...</td>\n",
       "    </tr>\n",
       "    <tr>\n",
       "      <th>4003</th>\n",
       "      <td>4003</td>\n",
       "      <td>ru</td>\n",
       "      <td>Смотрите , я записал убийство , которое она на...</td>\n",
       "      <td>13</td>\n",
       "      <td>[0.010712243, 0.057449117, -0.062147424, -0.03...</td>\n",
       "    </tr>\n",
       "  </tbody>\n",
       "</table>\n",
       "</div>"
      ],
      "text/plain": [
       "       Unnamed: 0 labels                                               text  \\\n",
       "25542       25542     pl  Chapman nie został natychmiast aresztowany i o...   \n",
       "11899       11899     es  Estoy contenta con la compra, cuando meto las ...   \n",
       "47626       47626     vi  Tôi không giúp họ tôi làm việc với họ không ph...   \n",
       "57541       57541     zh  这是网购以来，收货耗时最久的一次，不是之一。比双11还久。10月6日发出订单，直到20日才到...   \n",
       "17575       17575     zh                           就像书里说的，看完之后，在互联网时代收获一份平静   \n",
       "11160       11160     tr  Bunlar yüksek standartlarını korumuş olan bir ...   \n",
       "43295       43295     es  El calzador va bien para no agacharse pero hay...   \n",
       "53592       53592     en  I love this product!!!! What I like the most i...   \n",
       "15372       15372     ru  К числу результатов этих проблем относятся уве...   \n",
       "4003         4003     ru  Смотрите , я записал убийство , которое она на...   \n",
       "\n",
       "       enc_labels                                         embeddings  \n",
       "25542          11  [-0.037656464, 0.10963181, -0.0625423, 0.03107...  \n",
       "11899           5  [0.09058217, 0.08858652, 0.0128650265, -0.1038...  \n",
       "47626          18  [-0.08829949, 0.018498808, -0.05205665, -0.081...  \n",
       "57541          19  [0.07296511, 0.040647928, 0.1040279, -0.005607...  \n",
       "17575          19  [0.016383432, 0.09206814, 0.08663628, 0.006355...  \n",
       "11160          16  [-0.028618196, 0.0981894, -0.009314199, -0.025...  \n",
       "43295           5  [0.024856113, -0.003522059, 4.7007647e-06, -0....  \n",
       "53592           4  [-0.06358813, -0.08612435, 0.054177534, -0.027...  \n",
       "15372          13  [0.029102057, 0.019167429, 0.019533556, -0.017...  \n",
       "4003           13  [0.010712243, 0.057449117, -0.062147424, -0.03...  "
      ]
     },
     "execution_count": 143,
     "metadata": {},
     "output_type": "execute_result"
    }
   ],
   "source": [
    "# wyjświetlenie pierwszych 10 lini dla test_df\n",
    "test_df.head(n=10)"
   ]
  },
  {
   "cell_type": "code",
   "execution_count": 144,
   "id": "4af1a2f3-e9f8-4ece-a104-3b7ac1ee3060",
   "metadata": {},
   "outputs": [
    {
     "name": "stdout",
     "output_type": "stream",
     "text": [
      "{0: 'ar', 1: 'bg', 2: 'de', 3: 'el', 4: 'en', 5: 'es', 6: 'fr', 7: 'hi', 8: 'it', 9: 'ja', 10: 'nl', 11: 'pl', 12: 'pt', 13: 'ru', 14: 'sw', 15: 'th', 16: 'tr', 17: 'ur', 18: 'vi', 19: 'zh'}\n"
     ]
    }
   ],
   "source": [
    "# Utworzenie słownika z istniejących języków i posortowanie go od 0 do 19\n",
    "lang_dict = dict(sorted(dict(zip(df['enc_labels'], df['labels'])).items()))\n",
    "print(lang_dict)"
   ]
  },
  {
   "cell_type": "code",
   "execution_count": 145,
   "id": "e0c2acb2-fc93-4dfb-9c0f-a491ba0864b3",
   "metadata": {},
   "outputs": [],
   "source": [
    "import torch.nn.functional as F\n",
    "\n",
    "# Przygotowanie danych testowych\n",
    "test_embeddings = torch.Tensor(np.array(test_df['embeddings'].tolist()))\n",
    "\n",
    "# Uzyskanie predykcji dla danych testowych\n",
    "test_pred = model.forward(test_embeddings)\n",
    "\n",
    "# Przekształcenie wyników predykcji na prawdopodobieństwa przy użyciu funkcji softmax\n",
    "test_prob = F.softmax(test_pred, dim=1)\n",
    "\n",
    "# Znalezienie indeksu klasy z najwyższym prawdopodobieństwem dla każdego przykładu\n",
    "pred_indexes = torch.argmax(test_prob, dim=1)\n",
    "\n",
    "# Przetłumaczenie indeksów klas na odpowiadające języki\n",
    "pred_lang = [lang_dict[i.item()] for i in pred_indexes]"
   ]
  },
  {
   "cell_type": "code",
   "execution_count": 146,
   "id": "d7de5cf2-4916-4d3f-bbf3-519826c9ccab",
   "metadata": {},
   "outputs": [
    {
     "data": {
      "text/html": [
       "<div>\n",
       "<style scoped>\n",
       "    .dataframe tbody tr th:only-of-type {\n",
       "        vertical-align: middle;\n",
       "    }\n",
       "\n",
       "    .dataframe tbody tr th {\n",
       "        vertical-align: top;\n",
       "    }\n",
       "\n",
       "    .dataframe thead th {\n",
       "        text-align: right;\n",
       "    }\n",
       "</style>\n",
       "<table border=\"1\" class=\"dataframe\">\n",
       "  <thead>\n",
       "    <tr style=\"text-align: right;\">\n",
       "      <th></th>\n",
       "      <th>labels</th>\n",
       "      <th>predicted_language</th>\n",
       "      <th>text</th>\n",
       "    </tr>\n",
       "  </thead>\n",
       "  <tbody>\n",
       "    <tr>\n",
       "      <th>25972</th>\n",
       "      <td>ar</td>\n",
       "      <td>ar</td>\n",
       "      <td>يجلس sourer ليعتقد اننا خدعنا فيه . الكشاف لمح...</td>\n",
       "    </tr>\n",
       "    <tr>\n",
       "      <th>29347</th>\n",
       "      <td>ar</td>\n",
       "      <td>ar</td>\n",
       "      <td>واذا كان الامر كذلك , لماذا لا تتبع نفس الممار...</td>\n",
       "    </tr>\n",
       "    <tr>\n",
       "      <th>53381</th>\n",
       "      <td>ar</td>\n",
       "      <td>ar</td>\n",
       "      <td>الاسرة والكراسي والمقاعد هي حيث يقوم التاريخ ب...</td>\n",
       "    </tr>\n",
       "    <tr>\n",
       "      <th>26453</th>\n",
       "      <td>ar</td>\n",
       "      <td>ar</td>\n",
       "      <td>لا ارى انني لا اعتقد ان هاتفي يفعل ذلك حقا ولك...</td>\n",
       "    </tr>\n",
       "    <tr>\n",
       "      <th>1775</th>\n",
       "      <td>ar</td>\n",
       "      <td>ar</td>\n",
       "      <td>النشاط ال الزلزالي القديم اجبر الصخرة الطبقية ...</td>\n",
       "    </tr>\n",
       "    <tr>\n",
       "      <th>13070</th>\n",
       "      <td>ar</td>\n",
       "      <td>ar</td>\n",
       "      <td>وتشدد المبادئ التوجيهية لجمع البيانات على مدى ...</td>\n",
       "    </tr>\n",
       "    <tr>\n",
       "      <th>24261</th>\n",
       "      <td>ar</td>\n",
       "      <td>ar</td>\n",
       "      <td>المدينة والريف</td>\n",
       "    </tr>\n",
       "    <tr>\n",
       "      <th>5957</th>\n",
       "      <td>ar</td>\n",
       "      <td>ar</td>\n",
       "      <td>( 8 ) مرشح الامين العمل ( الكسيس هيرمان ) , ال...</td>\n",
       "    </tr>\n",
       "    <tr>\n",
       "      <th>15226</th>\n",
       "      <td>ar</td>\n",
       "      <td>ar</td>\n",
       "      <td>او تحيا المانيا المقدسة !</td>\n",
       "    </tr>\n",
       "    <tr>\n",
       "      <th>62472</th>\n",
       "      <td>ar</td>\n",
       "      <td>ar</td>\n",
       "      <td>الاحجار السوداء شكلت حلقة حول منصة من الصخور ا...</td>\n",
       "    </tr>\n",
       "    <tr>\n",
       "      <th>41433</th>\n",
       "      <td>ar</td>\n",
       "      <td>ar</td>\n",
       "      <td>كان النوم على ما يرام , كان لديه اسرة اسوا بكث...</td>\n",
       "    </tr>\n",
       "    <tr>\n",
       "      <th>25389</th>\n",
       "      <td>ar</td>\n",
       "      <td>ar</td>\n",
       "      <td>مقابر اخرى في الوادي اكثر المفيد عن الحياة الم...</td>\n",
       "    </tr>\n",
       "    <tr>\n",
       "      <th>31215</th>\n",
       "      <td>ar</td>\n",
       "      <td>ar</td>\n",
       "      <td>وانا اعني ذلك النوع من المفاجات لي اعني انك تع...</td>\n",
       "    </tr>\n",
       "    <tr>\n",
       "      <th>43244</th>\n",
       "      <td>ar</td>\n",
       "      <td>ar</td>\n",
       "      <td>ثم نقضت الدائرة ال 9 كاملة قضاهيها في خدمة الد...</td>\n",
       "    </tr>\n",
       "    <tr>\n",
       "      <th>40220</th>\n",
       "      <td>ar</td>\n",
       "      <td>ar</td>\n",
       "      <td>552 ( 1994 ) ) حذفت شرط الخطا او الحادث , وبدل...</td>\n",
       "    </tr>\n",
       "    <tr>\n",
       "      <th>2504</th>\n",
       "      <td>ar</td>\n",
       "      <td>ar</td>\n",
       "      <td>انه كما لو ان ( مان ) هو من صنعه .</td>\n",
       "    </tr>\n",
       "    <tr>\n",
       "      <th>61097</th>\n",
       "      <td>ar</td>\n",
       "      <td>ar</td>\n",
       "      <td>اكثر المباني التي لا يمكن تفاديها على الساحة ه...</td>\n",
       "    </tr>\n",
       "    <tr>\n",
       "      <th>5826</th>\n",
       "      <td>ar</td>\n",
       "      <td>ar</td>\n",
       "      <td>( كال ) جاء اليه , نادي يتارجح عاليا .</td>\n",
       "    </tr>\n",
       "    <tr>\n",
       "      <th>41590</th>\n",
       "      <td>ar</td>\n",
       "      <td>ar</td>\n",
       "      <td>يبدو انه كان يحتج على الوزن غير المتوازن من قط...</td>\n",
       "    </tr>\n",
       "    <tr>\n",
       "      <th>10775</th>\n",
       "      <td>ar</td>\n",
       "      <td>ar</td>\n",
       "      <td>ويتطلب وضع وتعهد برنامج لضمان الجودة في مختبر ...</td>\n",
       "    </tr>\n",
       "  </tbody>\n",
       "</table>\n",
       "</div>"
      ],
      "text/plain": [
       "      labels predicted_language  \\\n",
       "25972     ar                 ar   \n",
       "29347     ar                 ar   \n",
       "53381     ar                 ar   \n",
       "26453     ar                 ar   \n",
       "1775      ar                 ar   \n",
       "13070     ar                 ar   \n",
       "24261     ar                 ar   \n",
       "5957      ar                 ar   \n",
       "15226     ar                 ar   \n",
       "62472     ar                 ar   \n",
       "41433     ar                 ar   \n",
       "25389     ar                 ar   \n",
       "31215     ar                 ar   \n",
       "43244     ar                 ar   \n",
       "40220     ar                 ar   \n",
       "2504      ar                 ar   \n",
       "61097     ar                 ar   \n",
       "5826      ar                 ar   \n",
       "41590     ar                 ar   \n",
       "10775     ar                 ar   \n",
       "\n",
       "                                                    text  \n",
       "25972  يجلس sourer ليعتقد اننا خدعنا فيه . الكشاف لمح...  \n",
       "29347  واذا كان الامر كذلك , لماذا لا تتبع نفس الممار...  \n",
       "53381  الاسرة والكراسي والمقاعد هي حيث يقوم التاريخ ب...  \n",
       "26453  لا ارى انني لا اعتقد ان هاتفي يفعل ذلك حقا ولك...  \n",
       "1775   النشاط ال الزلزالي القديم اجبر الصخرة الطبقية ...  \n",
       "13070  وتشدد المبادئ التوجيهية لجمع البيانات على مدى ...  \n",
       "24261                                     المدينة والريف  \n",
       "5957   ( 8 ) مرشح الامين العمل ( الكسيس هيرمان ) , ال...  \n",
       "15226                          او تحيا المانيا المقدسة !  \n",
       "62472  الاحجار السوداء شكلت حلقة حول منصة من الصخور ا...  \n",
       "41433  كان النوم على ما يرام , كان لديه اسرة اسوا بكث...  \n",
       "25389  مقابر اخرى في الوادي اكثر المفيد عن الحياة الم...  \n",
       "31215  وانا اعني ذلك النوع من المفاجات لي اعني انك تع...  \n",
       "43244  ثم نقضت الدائرة ال 9 كاملة قضاهيها في خدمة الد...  \n",
       "40220  552 ( 1994 ) ) حذفت شرط الخطا او الحادث , وبدل...  \n",
       "2504                  انه كما لو ان ( مان ) هو من صنعه .  \n",
       "61097  اكثر المباني التي لا يمكن تفاديها على الساحة ه...  \n",
       "5826              ( كال ) جاء اليه , نادي يتارجح عاليا .  \n",
       "41590  يبدو انه كان يحتج على الوزن غير المتوازن من قط...  \n",
       "10775  ويتطلب وضع وتعهد برنامج لضمان الجودة في مختبر ...  "
      ]
     },
     "execution_count": 146,
     "metadata": {},
     "output_type": "execute_result"
    }
   ],
   "source": [
    "tested_df = test_df.copy()\n",
    "\n",
    "# Dodanie przewidywanych języków do ramki danych testowych\n",
    "tested_df['predicted_language'] = pred_lang\n",
    "\n",
    "# Sortowanie danych w df wg języka\n",
    "tested_df = tested_df.sort_values(by='labels')\n",
    "\n",
    "# Wyświetlenie przewidywanych języków dla danych testowych (30 pierwszych pozycji)\n",
    "tested_df[['labels', 'predicted_language', 'text']].head(n=20)"
   ]
  },
  {
   "cell_type": "code",
   "execution_count": 147,
   "id": "b012023a-2a61-4cb1-8f6a-a6fa4bf92a0b",
   "metadata": {},
   "outputs": [
    {
     "data": {
      "text/plain": [
       "labels\n",
       "ur    543\n",
       "fr    540\n",
       "it    539\n",
       "ja    528\n",
       "hi    516\n",
       "es    515\n",
       "vi    507\n",
       "de    502\n",
       "bg    502\n",
       "zh    499\n",
       "sw    492\n",
       "ar    492\n",
       "nl    489\n",
       "ru    487\n",
       "th    487\n",
       "pl    486\n",
       "el    479\n",
       "en    468\n",
       "tr    467\n",
       "pt    462\n",
       "Name: count, dtype: int64"
      ]
     },
     "execution_count": 147,
     "metadata": {},
     "output_type": "execute_result"
    }
   ],
   "source": [
    "# Wyświetlenie ilości rekordów dla danego języka w przetestowanym df\n",
    "tested_df.labels.value_counts()"
   ]
  },
  {
   "cell_type": "code",
   "execution_count": 148,
   "id": "14cb781b-f9c8-4563-9923-7ffbf8e58c65",
   "metadata": {},
   "outputs": [],
   "source": [
    "from sklearn.metrics import f1_score\n",
    "\n",
    "# Obliczenie dokładności dla każdego języka za pomocą F1-score\n",
    "f1 = f1_score(tested_df['labels'], tested_df['predicted_language'], average=None)"
   ]
  },
  {
   "cell_type": "code",
   "execution_count": 149,
   "id": "d78b6b98-6a3c-4e0e-a12e-12c4aba7ced6",
   "metadata": {},
   "outputs": [
    {
     "name": "stdout",
     "output_type": "stream",
     "text": [
      "{'ar': 0.9979674796747967, 'bg': 0.9509803921568627, 'de': 0.989010989010989, 'el': 0.9989550679205852, 'en': 0.9904153354632588, 'es': 0.9854227405247813, 'fr': 0.9907578558225508, 'hi': 0.9942084942084942, 'it': 0.9711090400745573, 'ja': 0.9990521327014218, 'nl': 0.9634888438133874, 'pl': 0.9671457905544147, 'pt': 0.9685807150595883, 'ru': 0.9487983281086729, 'sw': 0.9724770642201835, 'th': 0.9958932238193019, 'tr': 0.9689174705251876, 'ur': 0.992619926199262, 'vi': 0.9940828402366864, 'zh': 1.0}\n"
     ]
    }
   ],
   "source": [
    "# Stworzenie słownika z wynikami F1-score dla każdej z klas (języków)\n",
    "lang_pred_score = {}\n",
    "for i, score in enumerate(f1):\n",
    "    lang_pred_score[lang_dict[i]] = score\n",
    "print(lang_pred_score)"
   ]
  },
  {
   "cell_type": "code",
   "execution_count": 150,
   "id": "54ea22d2-88b5-43bc-a431-4cef5f4242ef",
   "metadata": {},
   "outputs": [
    {
     "name": "stdout",
     "output_type": "stream",
     "text": [
      "Dokładność dla danego języka w procentach:\n",
      "zh = 100.0%\n",
      "ja = 99.91%\n",
      "el = 99.9%\n",
      "ar = 99.8%\n",
      "th = 99.59%\n",
      "hi = 99.42%\n",
      "vi = 99.41%\n",
      "ur = 99.26%\n",
      "fr = 99.08%\n",
      "en = 99.04%\n",
      "de = 98.9%\n",
      "es = 98.54%\n",
      "sw = 97.25%\n",
      "it = 97.11%\n",
      "tr = 96.89%\n",
      "pt = 96.86%\n",
      "pl = 96.71%\n",
      "nl = 96.35%\n",
      "bg = 95.1%\n",
      "ru = 94.88%\n"
     ]
    }
   ],
   "source": [
    "print('Dokładność dla danego języka w procentach:')\n",
    "for lang, score in sorted(lang_pred_score.items(), key=lambda item: item[1], reverse=True):\n",
    "    print(f\"{lang} = {round(score*100, 2)}%\")"
   ]
  },
  {
   "cell_type": "code",
   "execution_count": 154,
   "id": "521dbc3a-492a-44e7-93c6-b805798c1e77",
   "metadata": {},
   "outputs": [
    {
     "name": "stdout",
     "output_type": "stream",
     "text": [
      "Confusion Matrix:\n",
      "[[491   0   0   0   0   0   0   0   0   0   0   0   0   0   0   0   0   1\n",
      "    0   0]\n",
      " [  0 485   0   0   0   0   0   0   0   0   0   0   0  16   0   0   0   1\n",
      "    0   0]\n",
      " [  0   0 495   0   0   0   1   0   1   0   5   0   0   0   0   0   0   0\n",
      "    0   0]\n",
      " [  0   0   0 478   0   0   0   1   0   0   0   0   0   0   0   0   0   0\n",
      "    0   0]\n",
      " [  0   0   0   0 465   0   0   0   0   0   2   0   0   0   0   0   0   1\n",
      "    0   0]\n",
      " [  0   0   0   0   0 507   2   0   2   0   0   0   4   0   0   0   0   0\n",
      "    0   0]\n",
      " [  0   0   1   0   0   0 536   0   1   0   1   0   0   0   0   0   0   0\n",
      "    1   0]\n",
      " [  0   0   0   0   0   0   0 515   0   0   0   0   0   0   1   0   0   0\n",
      "    0   0]\n",
      " [  0   0   0   0   0   2   0   0 521   0   0   3   8   0   0   0   4   0\n",
      "    1   0]\n",
      " [  0   0   0   0   1   0   0   0   0 527   0   0   0   0   0   0   0   0\n",
      "    0   0]\n",
      " [  0   0   1   0   0   0   1   0   1   0 475   5   0   0   1   0   5   0\n",
      "    0   0]\n",
      " [  0   0   0   0   0   0   0   0   2   0   5 471   0   0   5   1   2   0\n",
      "    0   0]\n",
      " [  0   0   0   0   0   5   0   0   3   0   4   2 447   0   1   0   0   0\n",
      "    0   0]\n",
      " [  0  33   0   0   0   0   0   0   0   0   0   0   0 454   0   0   0   0\n",
      "    0   0]\n",
      " [  0   0   1   0   3   0   0   3   2   0   0   3   0   0 477   0   3   0\n",
      "    0   0]\n",
      " [  0   0   0   0   0   0   0   0   0   0   0   1   0   0   0 485   0   0\n",
      "    1   0]\n",
      " [  0   0   1   0   0   0   0   0   0   0   5   3   2   0   4   0 452   0\n",
      "    0   0]\n",
      " [  1   0   0   0   2   0   0   1   0   0   0   0   0   0   0   1   0 538\n",
      "    0   0]\n",
      " [  0   0   0   0   0   0   2   0   1   0   0   0   0   0   0   0   0   0\n",
      "  504   0]\n",
      " [  0   0   0   0   0   0   0   0   0   0   0   0   0   0   0   0   0   0\n",
      "    0 499]]\n"
     ]
    }
   ],
   "source": [
    "# wyświetlenie wszystkiego za pomocą confusion matrix\n",
    "from sklearn.metrics import confusion_matrix\n",
    "\n",
    "# Obliczenie confusion matrix\n",
    "cm = confusion_matrix(tested_df['labels'], tested_df['predicted_language'], labels=sorted(lang_dict.values()))\n",
    "print(\"Confusion Matrix:\")\n",
    "print(cm)"
   ]
  },
  {
   "cell_type": "code",
   "execution_count": 160,
   "id": "e3cbbc5a-d9eb-490a-adf5-72c584cc3992",
   "metadata": {},
   "outputs": [
    {
     "data": {
      "image/png": "[encoded data removed]",
      "text/plain": [
       "<Figure size 1000x800 with 2 Axes>"
      ]
     },
     "metadata": {},
     "output_type": "display_data"
    }
   ],
   "source": [
    "# i wykresik dla lepszego zobrazowania\n",
    "import matplotlib.pyplot as plt\n",
    "import seaborn as sns\n",
    "plt.figure(figsize=(10, 8))\n",
    "sns.heatmap(cm, annot=True, fmt='d', cmap='Blues', xticklabels=sorted(lang_dict.values()), yticklabels=sorted(lang_dict.values()))\n",
    "plt.xlabel('Predicted Language')\n",
    "plt.ylabel('True Language')\n",
    "plt.title('Confusion Matrix')\n",
    "plt.show()"
   ]
  },
  {
   "cell_type": "code",
   "execution_count": null,
   "id": "f25f3a5e-00db-485b-a95f-a4f70ca69cda",
   "metadata": {},
   "outputs": [],
   "source": []
  }
 ],
 "metadata": {
  "kernelspec": {
   "display_name": "Python 3 (ipykernel)",
   "language": "python",
   "name": "python3"
  },
  "language_info": {
   "codemirror_mode": {
    "name": "ipython",
    "version": 3
   },
   "file_extension": ".py",
   "mimetype": "text/x-python",
   "name": "python",
   "nbconvert_exporter": "python",
   "pygments_lexer": "ipython3",
   "version": "3.10.12"
  }
 },
 "nbformat": 4,
 "nbformat_minor": 5
}
