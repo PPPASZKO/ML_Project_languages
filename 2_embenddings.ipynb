{
 "cells": [
  {
   "cell_type": "markdown",
   "id": "29085013-b67a-493b-a4e0-24797f9306d3",
   "metadata": {},
   "source": [
    "### Wybór i zdefiniowanie metody klasyfikacji danych\n",
    "#### Do zakodowania etykiet wykorzystałem bibliotekę sklearn i LabelEncoder, który koduje etykiety klasowe (w moim przypadku poszczególne języki) na liczby całkowite\n",
    "#### Do transformacji tekstu wykorzystałem sentence transformer \"all-MiniLM-L6-v2\" ze względu na jego niewilki rozmiar i niską złożoność obliczeniową, a co za tym idzie dobrą wydajność."
   ]
  },
  {
   "cell_type": "code",
   "execution_count": 2,
   "id": "fda70e00-5505-4999-8880-bedbea063c59",
   "metadata": {},
   "outputs": [
    {
     "name": "stderr",
     "output_type": "stream",
     "text": [
      "/home/student/ML_Project/venv_ml_project/lib/python3.10/site-packages/huggingface_hub/file_download.py:1132: FutureWarning: `resume_download` is deprecated and will be removed in version 1.0.0. Downloads always resume when possible. If you want to force a new download, use `force_download=True`.\n",
      "  warnings.warn(\n",
      "/home/student/ML_Project/venv_ml_project/lib/python3.10/site-packages/huggingface_hub/file_download.py:1132: FutureWarning: `resume_download` is deprecated and will be removed in version 1.0.0. Downloads always resume when possible. If you want to force a new download, use `force_download=True`.\n",
      "  warnings.warn(\n"
     ]
    }
   ],
   "source": [
    "from typing import List\n",
    "from sklearn.preprocessing import LabelEncoder \n",
    "import sentence_transformers\n",
    "from sentence_transformers import SentenceTransformer\n",
    "label_encoder = LabelEncoder() # pobranie narzędzia do kodowania etykiet klasowych dla rodzajów języków\n",
    "sentence_transformer = SentenceTransformer(\"all-MiniLM-L6-v2\") # wykorzystanie sentence transformera \"all-MiniLM-L6-v2\""
   ]
  },
  {
   "cell_type": "markdown",
   "id": "c64e2da0-cbee-4a01-a51b-cbb9f1f963e6",
   "metadata": {},
   "source": [
    "### Wczytanie wcześniej przygotowanych danych oraz ich transformacja, sprawdzenie i zapisanie do pliku"
   ]
  },
  {
   "cell_type": "code",
   "execution_count": 3,
   "id": "936cf9c1-173c-43f5-8ec7-e44a499a99d0",
   "metadata": {},
   "outputs": [],
   "source": [
    "# Tworzę funkcję, które za argumenty bierze model oraz liste tekstow i zwraca ich embeddingi\n",
    "def get_embeddings(model, texts: List[str]):\n",
    "    return model.encode(texts)"
   ]
  },
  {
   "cell_type": "code",
   "execution_count": 4,
   "id": "44c10c28-0d48-4c6c-b27e-30c1e95a1a86",
   "metadata": {},
   "outputs": [],
   "source": [
    "# Wczytuje mój przygotowany df w całości i sprawdzam czy ma długość 70000\n",
    "import pandas as pd \n",
    "df = pd.read_csv(\"dataset/languages_prep.csv\")\n",
    "assert len(df) == 70000"
   ]
  },
  {
   "cell_type": "code",
   "execution_count": 5,
   "id": "38303897-bc51-41c2-ac5b-335dd58424bf",
   "metadata": {},
   "outputs": [],
   "source": [
    "# Zapisuje texty i labele do listy \n",
    "labels = df.labels.tolist()\n",
    "texts = df.text.tolist()"
   ]
  },
  {
   "cell_type": "code",
   "execution_count": 6,
   "id": "019bab0b-3f8e-415c-ae04-923643ff07d2",
   "metadata": {},
   "outputs": [],
   "source": [
    "# Koduję etykiety za pomocą label enkodera\n",
    "enc_labels = label_encoder.fit_transform(labels)"
   ]
  },
  {
   "cell_type": "markdown",
   "id": "591fd697-4f95-41e5-a3a4-9688163cdd43",
   "metadata": {},
   "source": [
    "### Tworzę embeddingi dla każdego textu w texts - długi czas trwania w moim przypadku około 2-3h"
   ]
  },
  {
   "cell_type": "code",
   "execution_count": 7,
   "id": "e33a5b0a-ce4d-46f0-a44d-ddca8efeb942",
   "metadata": {},
   "outputs": [],
   "source": [
    "# Tworzę embeddingi dla każdego textu w texts - długi czas trwania w moim przypadku około 2-3h\n",
    "embeddings = get_embeddings(sentence_transformer, texts)"
   ]
  },
  {
   "cell_type": "code",
   "execution_count": 8,
   "id": "f8efbe32-e084-454e-88e8-b1d259d9bcc1",
   "metadata": {},
   "outputs": [
    {
     "data": {
      "text/plain": [
       "384"
      ]
     },
     "execution_count": 8,
     "metadata": {},
     "output_type": "execute_result"
    }
   ],
   "source": [
    "# Sprawdzam ile wymiarów ma wektor o indeksie 0\n",
    "len(embeddings[0])"
   ]
  },
  {
   "cell_type": "code",
   "execution_count": 9,
   "id": "8b65e131-3545-4ded-9696-5ee4c7e94220",
   "metadata": {},
   "outputs": [
    {
     "data": {
      "text/plain": [
       "50000"
      ]
     },
     "execution_count": 9,
     "metadata": {},
     "output_type": "execute_result"
    }
   ],
   "source": [
    "# Sprawdzam jaką ma długość\n",
    "len(embeddings)"
   ]
  },
  {
   "cell_type": "code",
   "execution_count": 10,
   "id": "31a5fbfe-0208-4915-8263-8e82c2282e44",
   "metadata": {},
   "outputs": [
    {
     "data": {
      "text/plain": [
       "(50000, 384)"
      ]
     },
     "execution_count": 10,
     "metadata": {},
     "output_type": "execute_result"
    }
   ],
   "source": [
    "# Sprawdzam kształt embendingsów\n",
    "embeddings.shape"
   ]
  },
  {
   "cell_type": "code",
   "execution_count": 11,
   "id": "bfeef1a5-1533-41d8-9678-7e0feaf4494f",
   "metadata": {},
   "outputs": [
    {
     "data": {
      "text/plain": [
       "50000"
      ]
     },
     "execution_count": 11,
     "metadata": {},
     "output_type": "execute_result"
    }
   ],
   "source": [
    "len(enc_labels)"
   ]
  },
  {
   "cell_type": "code",
   "execution_count": 12,
   "id": "50af09da-95b5-4da3-9bf1-03f50fa9aa0b",
   "metadata": {},
   "outputs": [
    {
     "data": {
      "text/html": [
       "<div>\n",
       "<style scoped>\n",
       "    .dataframe tbody tr th:only-of-type {\n",
       "        vertical-align: middle;\n",
       "    }\n",
       "\n",
       "    .dataframe tbody tr th {\n",
       "        vertical-align: top;\n",
       "    }\n",
       "\n",
       "    .dataframe thead th {\n",
       "        text-align: right;\n",
       "    }\n",
       "</style>\n",
       "<table border=\"1\" class=\"dataframe\">\n",
       "  <thead>\n",
       "    <tr style=\"text-align: right;\">\n",
       "      <th></th>\n",
       "      <th>Unnamed: 0</th>\n",
       "      <th>labels</th>\n",
       "      <th>text</th>\n",
       "      <th>enc_labels</th>\n",
       "      <th>embeddings</th>\n",
       "    </tr>\n",
       "  </thead>\n",
       "  <tbody>\n",
       "    <tr>\n",
       "      <th>0</th>\n",
       "      <td>0</td>\n",
       "      <td>pt</td>\n",
       "      <td>os chefes de defesa da estónia, letónia, lituâ...</td>\n",
       "      <td>12</td>\n",
       "      <td>[0.036873266, 0.0020223923, -0.09351195, 0.001...</td>\n",
       "    </tr>\n",
       "    <tr>\n",
       "      <th>1</th>\n",
       "      <td>1</td>\n",
       "      <td>bg</td>\n",
       "      <td>размерът на хоризонталната мрежа може да бъде ...</td>\n",
       "      <td>1</td>\n",
       "      <td>[0.019863939, 0.06454754, -0.041304275, -0.031...</td>\n",
       "    </tr>\n",
       "    <tr>\n",
       "      <th>2</th>\n",
       "      <td>2</td>\n",
       "      <td>zh</td>\n",
       "      <td>很好，以前从不去评价，不知道浪费了多少积分，现在知道积分可以换钱，就要好好评价了，后来我就把...</td>\n",
       "      <td>19</td>\n",
       "      <td>[-0.041812006, 0.0039601177, 0.01682547, -0.00...</td>\n",
       "    </tr>\n",
       "    <tr>\n",
       "      <th>3</th>\n",
       "      <td>3</td>\n",
       "      <td>th</td>\n",
       "      <td>สำหรับ ของเก่า ที่ จริงจัง ลอง   honeychurch  ...</td>\n",
       "      <td>15</td>\n",
       "      <td>[0.075852364, 0.053805254, 0.07748131, -0.0450...</td>\n",
       "    </tr>\n",
       "    <tr>\n",
       "      <th>4</th>\n",
       "      <td>4</td>\n",
       "      <td>ru</td>\n",
       "      <td>Он увеличил давление .000000000000000000000000...</td>\n",
       "      <td>13</td>\n",
       "      <td>[-0.04810861, 0.03578605, 0.011757057, 0.02441...</td>\n",
       "    </tr>\n",
       "    <tr>\n",
       "      <th>5</th>\n",
       "      <td>5</td>\n",
       "      <td>pl</td>\n",
       "      <td>S Jak sobie życzysz: Widzisz, jak Hitler zabij...</td>\n",
       "      <td>11</td>\n",
       "      <td>[-0.101992615, 0.13540268, -0.109019354, 0.036...</td>\n",
       "    </tr>\n",
       "    <tr>\n",
       "      <th>6</th>\n",
       "      <td>6</td>\n",
       "      <td>ur</td>\n",
       "      <td>اس کے بارے میں ، سفید شادی کی شرح کے بعد سفید ...</td>\n",
       "      <td>17</td>\n",
       "      <td>[0.03445083, 0.07025945, -0.013857332, -0.0287...</td>\n",
       "    </tr>\n",
       "    <tr>\n",
       "      <th>7</th>\n",
       "      <td>7</td>\n",
       "      <td>sw</td>\n",
       "      <td>Zabuni ya ushindani pia imekuwa rahisi kwa sif...</td>\n",
       "      <td>14</td>\n",
       "      <td>[-0.027691623, 0.10228121, 0.030589335, -0.032...</td>\n",
       "    </tr>\n",
       "    <tr>\n",
       "      <th>8</th>\n",
       "      <td>8</td>\n",
       "      <td>tr</td>\n",
       "      <td>Devasa 12 yüzyıl abbatiale saint-Pierre-Et-Sai...</td>\n",
       "      <td>16</td>\n",
       "      <td>[-0.04013098, 0.09787849, -0.06950884, -0.0368...</td>\n",
       "    </tr>\n",
       "    <tr>\n",
       "      <th>9</th>\n",
       "      <td>9</td>\n",
       "      <td>ur</td>\n",
       "      <td>موجودہ اثاثوں میں سے ایک کا اضافہ ہو سکتا ہے ۔...</td>\n",
       "      <td>17</td>\n",
       "      <td>[0.07042703, 0.06137885, -0.016436763, 0.00872...</td>\n",
       "    </tr>\n",
       "  </tbody>\n",
       "</table>\n",
       "</div>"
      ],
      "text/plain": [
       "   Unnamed: 0 labels                                               text  \\\n",
       "0           0     pt  os chefes de defesa da estónia, letónia, lituâ...   \n",
       "1           1     bg  размерът на хоризонталната мрежа може да бъде ...   \n",
       "2           2     zh  很好，以前从不去评价，不知道浪费了多少积分，现在知道积分可以换钱，就要好好评价了，后来我就把...   \n",
       "3           3     th  สำหรับ ของเก่า ที่ จริงจัง ลอง   honeychurch  ...   \n",
       "4           4     ru  Он увеличил давление .000000000000000000000000...   \n",
       "5           5     pl  S Jak sobie życzysz: Widzisz, jak Hitler zabij...   \n",
       "6           6     ur  اس کے بارے میں ، سفید شادی کی شرح کے بعد سفید ...   \n",
       "7           7     sw  Zabuni ya ushindani pia imekuwa rahisi kwa sif...   \n",
       "8           8     tr  Devasa 12 yüzyıl abbatiale saint-Pierre-Et-Sai...   \n",
       "9           9     ur  موجودہ اثاثوں میں سے ایک کا اضافہ ہو سکتا ہے ۔...   \n",
       "\n",
       "   enc_labels                                         embeddings  \n",
       "0          12  [0.036873266, 0.0020223923, -0.09351195, 0.001...  \n",
       "1           1  [0.019863939, 0.06454754, -0.041304275, -0.031...  \n",
       "2          19  [-0.041812006, 0.0039601177, 0.01682547, -0.00...  \n",
       "3          15  [0.075852364, 0.053805254, 0.07748131, -0.0450...  \n",
       "4          13  [-0.04810861, 0.03578605, 0.011757057, 0.02441...  \n",
       "5          11  [-0.101992615, 0.13540268, -0.109019354, 0.036...  \n",
       "6          17  [0.03445083, 0.07025945, -0.013857332, -0.0287...  \n",
       "7          14  [-0.027691623, 0.10228121, 0.030589335, -0.032...  \n",
       "8          16  [-0.04013098, 0.09787849, -0.06950884, -0.0368...  \n",
       "9          17  [0.07042703, 0.06137885, -0.016436763, 0.00872...  "
      ]
     },
     "execution_count": 12,
     "metadata": {},
     "output_type": "execute_result"
    }
   ],
   "source": [
    "# Przypisuję enc_labels i embeddingi do kolumn w moim df\n",
    "df = df.assign(enc_labels = [l for l in enc_labels])\n",
    "df = df.assign(embeddings = [e for e in embeddings])\n",
    "df.head(n=10)"
   ]
  },
  {
   "cell_type": "code",
   "execution_count": 13,
   "id": "bd920a2a-5543-45be-99bc-3bb81d949b4b",
   "metadata": {},
   "outputs": [],
   "source": [
    "# Zapisuję df jako feather format train_with_embeddings.bin \n",
    "df.to_feather(\"dataset/languages_with_embeddings.bin\")"
   ]
  },
  {
   "cell_type": "code",
   "execution_count": null,
   "id": "116c86b7-d2b9-46e0-adae-f6d4950a1aa3",
   "metadata": {},
   "outputs": [],
   "source": []
  }
 ],
 "metadata": {
  "kernelspec": {
   "display_name": "Python 3 (ipykernel)",
   "language": "python",
   "name": "python3"
  },
  "language_info": {
   "codemirror_mode": {
    "name": "ipython",
    "version": 3
   },
   "file_extension": ".py",
   "mimetype": "text/x-python",
   "name": "python",
   "nbconvert_exporter": "python",
   "pygments_lexer": "ipython3",
   "version": "3.10.12"
  }
 },
 "nbformat": 4,
 "nbformat_minor": 5
}
