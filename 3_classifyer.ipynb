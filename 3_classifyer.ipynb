{
 "cells": [
  {
   "cell_type": "markdown",
   "id": "6a84f46e-582f-4103-b7da-12ca8c622055",
   "metadata": {},
   "source": [
    "### Stworzenie sieci neuronowej\n",
    "#### Wykorzystałem sieć neuronową trzywarstwą ponieważ przynosiła najlepsze wyniki po walidacji modelu (modele 2 i 4 warstwowe przynosiły gorsze wyniki). Dwie pierwsze warstwy posiadają funkcje aktywacji ReLu, która na wszystkich wyjściach zwraca wynik funkcji max(0, x), czyli masimum dla wartości dodatnich i 0 dla wartości ujemnych. Ostatnia warstwa nie posiada funkcji aktywacji (miałem wykorzystać funkcję softmax, ale w związku z wykorzystaniem podczas trenowania, funkcji straty Cross Entropy Loss, która wykonuje softmax wewnętrzne przed wykonaniem obliczeń, nie ma takiej potrzeny)."
   ]
  },
  {
   "cell_type": "code",
   "execution_count": 1,
   "id": "740ef742-a9d3-42db-a1bd-10bfc953eab6",
   "metadata": {},
   "outputs": [],
   "source": [
    "import torch \n",
    "from torch import nn\n",
    "import numpy as np\n",
    "class LangClassifier(nn.Module): # utworzenie sieci neuronowej\n",
    "    def __init__(self):\n",
    "        super().__init__()        \n",
    "        self.mlp = nn.Sequential(\n",
    "            nn.Linear(384, 200),\n",
    "            nn.ReLU(),          \n",
    "            nn.Linear(200, 100),\n",
    "            nn.ReLU(),\n",
    "            nn.Linear(100, 20),\n",
    "        )\n",
    "    \n",
    "    def forward(self, x):\n",
    "        return self.mlp(x)"
   ]
  },
  {
   "cell_type": "markdown",
   "id": "e2c6afbd-87d3-4e8a-9553-b39a99a326bb",
   "metadata": {},
   "source": [
    "### Pobranie i podzielenie wcześniej przygotowanych danych"
   ]
  },
  {
   "cell_type": "code",
   "execution_count": 2,
   "id": "35c09f11-274e-4a41-a648-fc4f89adb5e0",
   "metadata": {},
   "outputs": [],
   "source": [
    "import pandas as pd \n",
    "# Wczytuje dane z embendingami\n",
    "df = pd.read_feather(\"dataset/languages_with_embeddings.bin\")"
   ]
  },
  {
   "cell_type": "code",
   "execution_count": 3,
   "id": "6ea72150-4b99-4975-8fa4-05354c462a2c",
   "metadata": {},
   "outputs": [
    {
     "data": {
      "text/html": [
       "<div>\n",
       "<style scoped>\n",
       "    .dataframe tbody tr th:only-of-type {\n",
       "        vertical-align: middle;\n",
       "    }\n",
       "\n",
       "    .dataframe tbody tr th {\n",
       "        vertical-align: top;\n",
       "    }\n",
       "\n",
       "    .dataframe thead th {\n",
       "        text-align: right;\n",
       "    }\n",
       "</style>\n",
       "<table border=\"1\" class=\"dataframe\">\n",
       "  <thead>\n",
       "    <tr style=\"text-align: right;\">\n",
       "      <th></th>\n",
       "      <th>Unnamed: 0</th>\n",
       "      <th>labels</th>\n",
       "      <th>text</th>\n",
       "      <th>enc_labels</th>\n",
       "      <th>embeddings</th>\n",
       "    </tr>\n",
       "  </thead>\n",
       "  <tbody>\n",
       "    <tr>\n",
       "      <th>38163</th>\n",
       "      <td>38163</td>\n",
       "      <td>zh</td>\n",
       "      <td>这车的价格太贵了，以为这个价格可以买好点的玩具，一打开包装我也是醉了，有种被骗的心00000...</td>\n",
       "      <td>19</td>\n",
       "      <td>[-0.02041055, 0.05406677, 0.038636196, 0.02865...</td>\n",
       "    </tr>\n",
       "    <tr>\n",
       "      <th>55415</th>\n",
       "      <td>55415</td>\n",
       "      <td>zh</td>\n",
       "      <td>预产期还有几个月，不过看见这个包包就忍不住下手了，里面的分层隔断都很喜欢，最下面包包里的隔尿...</td>\n",
       "      <td>19</td>\n",
       "      <td>[-0.035338033, 0.0011795888, 0.102901965, 0.05...</td>\n",
       "    </tr>\n",
       "    <tr>\n",
       "      <th>50560</th>\n",
       "      <td>50560</td>\n",
       "      <td>hi</td>\n",
       "      <td>लेकिन कैसे ? टॉमी ने अपनी जेब से प ् रश ् न लि...</td>\n",
       "      <td>7</td>\n",
       "      <td>[-0.04171736, 0.019164028, -0.032865927, -0.03...</td>\n",
       "    </tr>\n",
       "    <tr>\n",
       "      <th>28613</th>\n",
       "      <td>28613</td>\n",
       "      <td>de</td>\n",
       "      <td>Das Mikrophon ist komplett steif und lässt sic...</td>\n",
       "      <td>2</td>\n",
       "      <td>[-0.088454396, 0.068403766, 0.052359637, 0.007...</td>\n",
       "    </tr>\n",
       "    <tr>\n",
       "      <th>19564</th>\n",
       "      <td>19564</td>\n",
       "      <td>bg</td>\n",
       "      <td>\" качествени лекарства \" предлагат не само въз...</td>\n",
       "      <td>1</td>\n",
       "      <td>[-0.025234574, 0.042950884, -0.034290895, -0.0...</td>\n",
       "    </tr>\n",
       "    <tr>\n",
       "      <th>69847</th>\n",
       "      <td>69847</td>\n",
       "      <td>el</td>\n",
       "      <td>Λοιπόν λατρεύω το θέατρο αριστούργημα .0000000...</td>\n",
       "      <td>3</td>\n",
       "      <td>[-0.066842124, 0.09612063, 0.02541089, -0.0460...</td>\n",
       "    </tr>\n",
       "    <tr>\n",
       "      <th>62498</th>\n",
       "      <td>62498</td>\n",
       "      <td>vi</td>\n",
       "      <td>Chọn ngày hoàng đạo khai ( )000000000000000000...</td>\n",
       "      <td>18</td>\n",
       "      <td>[-0.10859291, 0.105145596, -0.00071410247, -0....</td>\n",
       "    </tr>\n",
       "    <tr>\n",
       "      <th>52330</th>\n",
       "      <td>52330</td>\n",
       "      <td>de</td>\n",
       "      <td>Artikel kam nie an und vom Verkäufer kam auch ...</td>\n",
       "      <td>2</td>\n",
       "      <td>[-0.060716357, 0.074965246, 0.0718846, 0.03142...</td>\n",
       "    </tr>\n",
       "    <tr>\n",
       "      <th>50544</th>\n",
       "      <td>50544</td>\n",
       "      <td>zh</td>\n",
       "      <td>噪音大，做工粗糙，价格贵，电机声音不纯，建议买别的牌子0000000000000000000...</td>\n",
       "      <td>19</td>\n",
       "      <td>[0.006097238, 0.032603197, 0.0684509, -0.00506...</td>\n",
       "    </tr>\n",
       "    <tr>\n",
       "      <th>720</th>\n",
       "      <td>720</td>\n",
       "      <td>pt</td>\n",
       "      <td>Um rapaz foge da sua linha de pesca.0000000000...</td>\n",
       "      <td>12</td>\n",
       "      <td>[-0.05415658, 0.064202726, 0.040372316, -0.000...</td>\n",
       "    </tr>\n",
       "  </tbody>\n",
       "</table>\n",
       "</div>"
      ],
      "text/plain": [
       "       Unnamed: 0 labels                                               text  \\\n",
       "38163       38163     zh  这车的价格太贵了，以为这个价格可以买好点的玩具，一打开包装我也是醉了，有种被骗的心00000...   \n",
       "55415       55415     zh  预产期还有几个月，不过看见这个包包就忍不住下手了，里面的分层隔断都很喜欢，最下面包包里的隔尿...   \n",
       "50560       50560     hi  लेकिन कैसे ? टॉमी ने अपनी जेब से प ् रश ् न लि...   \n",
       "28613       28613     de  Das Mikrophon ist komplett steif und lässt sic...   \n",
       "19564       19564     bg  \" качествени лекарства \" предлагат не само въз...   \n",
       "69847       69847     el  Λοιπόν λατρεύω το θέατρο αριστούργημα .0000000...   \n",
       "62498       62498     vi  Chọn ngày hoàng đạo khai ( )000000000000000000...   \n",
       "52330       52330     de  Artikel kam nie an und vom Verkäufer kam auch ...   \n",
       "50544       50544     zh  噪音大，做工粗糙，价格贵，电机声音不纯，建议买别的牌子0000000000000000000...   \n",
       "720           720     pt  Um rapaz foge da sua linha de pesca.0000000000...   \n",
       "\n",
       "       enc_labels                                         embeddings  \n",
       "38163          19  [-0.02041055, 0.05406677, 0.038636196, 0.02865...  \n",
       "55415          19  [-0.035338033, 0.0011795888, 0.102901965, 0.05...  \n",
       "50560           7  [-0.04171736, 0.019164028, -0.032865927, -0.03...  \n",
       "28613           2  [-0.088454396, 0.068403766, 0.052359637, 0.007...  \n",
       "19564           1  [-0.025234574, 0.042950884, -0.034290895, -0.0...  \n",
       "69847           3  [-0.066842124, 0.09612063, 0.02541089, -0.0460...  \n",
       "62498          18  [-0.10859291, 0.105145596, -0.00071410247, -0....  \n",
       "52330           2  [-0.060716357, 0.074965246, 0.0718846, 0.03142...  \n",
       "50544          19  [0.006097238, 0.032603197, 0.0684509, -0.00506...  \n",
       "720            12  [-0.05415658, 0.064202726, 0.040372316, -0.000...  "
      ]
     },
     "execution_count": 3,
     "metadata": {},
     "output_type": "execute_result"
    }
   ],
   "source": [
    "# dokonuję losowego przetasowania\n",
    "df = df.sample(frac=1.0)\n",
    "# Dzielę dane na treningowe, validacyjne i testowe (50k, 10k, 10k) \n",
    "train_df = df[:50000] # dane do treningowe\n",
    "val_df = df[50000:60000] # dane validacyjne\n",
    "test_df = df[60000:] # dane testowe\n",
    "train_df.head(n=10)"
   ]
  },
  {
   "cell_type": "markdown",
   "id": "49cbc248-952d-4c85-b08a-5709ddecb79c",
   "metadata": {},
   "source": [
    "### Trenowanie i walidacja modelu oraz wykorzystanie metryki accuracy do klasyfikacji wieloklasowej"
   ]
  },
  {
   "cell_type": "code",
   "execution_count": 6,
   "id": "681bf1dc-8f89-4952-9e47-f3e44c607b11",
   "metadata": {
    "scrolled": true
   },
   "outputs": [
    {
     "data": {
      "application/vnd.jupyter.widget-view+json": {
       "model_id": "ec4d07eab0ba4d2488dc37da92590d68",
       "version_major": 2,
       "version_minor": 0
      },
      "text/plain": [
       "  0%|          | 0/10 [00:00<?, ?it/s]"
      ]
     },
     "metadata": {},
     "output_type": "display_data"
    },
    {
     "data": {
      "application/vnd.jupyter.widget-view+json": {
       "model_id": "4572c47e664d4e00a3afca26ace4b143",
       "version_major": 2,
       "version_minor": 0
      },
      "text/plain": [
       "evaluating: 0it [00:00, ?it/s]"
      ]
     },
     "metadata": {},
     "output_type": "display_data"
    },
    {
     "data": {
      "application/vnd.jupyter.widget-view+json": {
       "model_id": "ce19c994fc7e4b8c9b16776ae5d5a08b",
       "version_major": 2,
       "version_minor": 0
      },
      "text/plain": [
       "evaluating: 0it [00:00, ?it/s]"
      ]
     },
     "metadata": {},
     "output_type": "display_data"
    },
    {
     "data": {
      "application/vnd.jupyter.widget-view+json": {
       "model_id": "41ddd0ed0b8541fc9178d0587def2e67",
       "version_major": 2,
       "version_minor": 0
      },
      "text/plain": [
       "evaluating: 0it [00:00, ?it/s]"
      ]
     },
     "metadata": {},
     "output_type": "display_data"
    },
    {
     "data": {
      "application/vnd.jupyter.widget-view+json": {
       "model_id": "f6de3a0a4bf14033aa64c9337679485f",
       "version_major": 2,
       "version_minor": 0
      },
      "text/plain": [
       "evaluating: 0it [00:00, ?it/s]"
      ]
     },
     "metadata": {},
     "output_type": "display_data"
    },
    {
     "data": {
      "application/vnd.jupyter.widget-view+json": {
       "model_id": "7998fadd602349f082658e94a122bc1a",
       "version_major": 2,
       "version_minor": 0
      },
      "text/plain": [
       "evaluating: 0it [00:00, ?it/s]"
      ]
     },
     "metadata": {},
     "output_type": "display_data"
    },
    {
     "data": {
      "application/vnd.jupyter.widget-view+json": {
       "model_id": "ebb664e624b64fb5b9a6e65fbcfa6fbc",
       "version_major": 2,
       "version_minor": 0
      },
      "text/plain": [
       "evaluating: 0it [00:00, ?it/s]"
      ]
     },
     "metadata": {},
     "output_type": "display_data"
    },
    {
     "data": {
      "application/vnd.jupyter.widget-view+json": {
       "model_id": "b5c0e419d2444b67aba890e9366fe092",
       "version_major": 2,
       "version_minor": 0
      },
      "text/plain": [
       "evaluating: 0it [00:00, ?it/s]"
      ]
     },
     "metadata": {},
     "output_type": "display_data"
    },
    {
     "data": {
      "application/vnd.jupyter.widget-view+json": {
       "model_id": "ed5b8a29432e4a21bfbd8b7348407dab",
       "version_major": 2,
       "version_minor": 0
      },
      "text/plain": [
       "evaluating: 0it [00:00, ?it/s]"
      ]
     },
     "metadata": {},
     "output_type": "display_data"
    },
    {
     "data": {
      "application/vnd.jupyter.widget-view+json": {
       "model_id": "e0322211adc44b7d9e9e081e3aa8567d",
       "version_major": 2,
       "version_minor": 0
      },
      "text/plain": [
       "evaluating: 0it [00:00, ?it/s]"
      ]
     },
     "metadata": {},
     "output_type": "display_data"
    },
    {
     "data": {
      "application/vnd.jupyter.widget-view+json": {
       "model_id": "2d5d3e1265e34fadb3825fdbecd9d3c5",
       "version_major": 2,
       "version_minor": 0
      },
      "text/plain": [
       "evaluating: 0it [00:00, ?it/s]"
      ]
     },
     "metadata": {},
     "output_type": "display_data"
    },
    {
     "data": {
      "text/plain": [
       "<All keys matched successfully>"
      ]
     },
     "execution_count": 6,
     "metadata": {},
     "output_type": "execute_result"
    }
   ],
   "source": [
    "from torchmetrics import Accuracy\n",
    "from tqdm.notebook import tqdm\n",
    "import numpy as np\n",
    "from torch.utils.tensorboard import SummaryWriter\n",
    "\n",
    "writer = SummaryWriter() # inicializacja narzędzia do rejestrowania danych i metryk podczas treningu modelu w PyTorch z biblioteki TensorBoard, która pozwala na wizualizację i monitorowanie danych\n",
    "model = LangClassifier() # zdefiniowanie instancji naszego modelu sieci neuronowej\n",
    "ce_loss = nn.CrossEntropyLoss() # Zastosowanie funkcji straty Cross-Entropy Loss, która związana jest z wieloklasową klasyfikacją\n",
    "\n",
    "batch_size = 100 # ustawienie paczki danych, które są obrabiane na raz podczas jednej pętli w danej epoce w czasie uczenia się (wybrałem sto celem umożliwienia sprawnego trenowania)\n",
    "adam_optimizer = torch.optim.Adam(model.parameters()) # Zastosowanie optymalizatora Adam\n",
    "nr_of_epochs = 10\n",
    "losses = []\n",
    "best_accuracy = 0.0\n",
    "for epoch in tqdm(range(nr_of_epochs)):\n",
    "    \n",
    "    train_df = train_df.sample(frac=1.0)  # losowe przetasowanie całego treningowego_dataframe (frac=1.0 - oznacza żeby funkcja sample zwróciła cały przetasowany df) \n",
    "    current_index = 0 # ustawienie indeksu na 0 dla pętli while liczenia kolejnej epoki\n",
    "    while current_index < len(train_df): # jeżeli obecny index jest mniejszy niż ostatni ro wykonuj się       \n",
    "        # Najpierw tworzą się próbki danych x - embeddnings i y - encoded labels (najperw wiciągam listy z kolumn naszego df i tworzę z nich tablicę)\n",
    "        batch_x = np.array(\n",
    "            train_df.embeddings[current_index:(current_index + batch_size)].tolist()\n",
    "        )\n",
    "        batch_y = np.array(\n",
    "            train_df.enc_labels[current_index: (current_index + batch_size)].tolist()\n",
    "        )\n",
    "\n",
    "        # Następnie tworzę z tablic tensory potrzebne do wykonania trenowania\n",
    "        tensor_batch_x = torch.Tensor(batch_x)\n",
    "        tensor_batch_y = torch.Tensor(batch_y)\n",
    "\n",
    "        # Tu następuje predykcja i obliczenie funkcji straty\n",
    "        pred = model.forward(tensor_batch_x) \n",
    "        loss = ce_loss(pred, tensor_batch_y.long())\n",
    " \n",
    "        # Backpropagation\n",
    "        loss.backward() # Liczenie gradientu wag modelu - czyli wektorów wskazujących na kierunek zmian wag\n",
    "        adam_optimizer.step() # adam oblicza nowe parametry sieci na podstawie obliczonych gradientów\n",
    "        adam_optimizer.zero_grad()\n",
    "        \n",
    "        losses.append(float(loss.detach().numpy())) # wyodrębniam wartość funkcji straty z tensora PyTorch loss, a następnie konwertuje ją na liczbę zmiennoprzecinkową i dodaje do listy losses.\n",
    "        current_index += batch_size\n",
    "    \n",
    "    model.eval() # ustawienie modelu w tryb ewaluacji celem umożliwienia prawidłowej ewaluacji (niektóre warstwy modelu zachowują się inaczej w tym trybie)\n",
    "    metric = Accuracy(task='MULTICLASS', num_classes=20) # utworzenie obiektu metryki Accuracy do klasyfikacji wieloklasowej (liczba klas 20)\n",
    "    for _, eval_row in tqdm(val_df.iterrows(), desc='evaluating'): # iteracja pętli po każdym wierszu val_df (danych walidacyjnych)\n",
    "        pred = model.forward(\n",
    "            torch.Tensor(np.array(eval_row.embeddings)) # obliczenie predykcji dla linijki danych walidacyjnych\n",
    "        )\n",
    "        metric.update(torch.argmax(pred).unsqueeze(0), torch.Tensor([eval_row.enc_labels])) # zupdatowanie predykcji w metryce porównując do właściej wartości\n",
    "    metric_value = metric.compute() # obliczenie wartości metryki Accuracy na podstawie wszystkich uaktualnień przeprowadzonych podczas iteracji po danych walidacyjnych\n",
    "    writer.add_scalar('Accuracy/eval', metric_value, epoch) # metryki do rejestratora potrzebnego do wyświetlenia w TensorBoard\n",
    "    \n",
    "    if metric_value > best_accuracy:\n",
    "        best_accuracy = metric_value\n",
    "        torch.save(model.state_dict(), 'best_model.pth') # zapisz model jeżeli jest lepszy od poprzednio zapisanego\n",
    "\n",
    "model.load_state_dict(torch.load('best_model.pth'))  # załaduj wagi z zapisanego najlepszego  modelu"
   ]
  },
  {
   "cell_type": "markdown",
   "id": "566ec477-8aa5-4d3f-962a-4e9254dba8bc",
   "metadata": {},
   "source": [
    "### Wykers dokładności predykcji\n",
    "#### Aby wyświetlić wykres dokładności predykcji w kolejnych epokach na podsawie danych zapisanych w utworzonym folderze runs należy wykorzystać TensorBoard\n",
    "#### Komenda do terminala: \"tensorboard --logdir=runs\"\n"
   ]
  },
  {
   "cell_type": "code",
   "execution_count": 7,
   "id": "8c32cb8a-f99a-4a4e-9d0d-4b1566917666",
   "metadata": {},
   "outputs": [
    {
     "data": {
      "text/plain": [
       "[<matplotlib.lines.Line2D at 0x7fd778693d90>]"
      ]
     },
     "execution_count": 7,
     "metadata": {},
     "output_type": "execute_result"
    },
    {
     "data": {
      "image/png": "[encoded data removed]",
      "text/plain": [
       "<Figure size 640x480 with 1 Axes>"
      ]
     },
     "metadata": {},
     "output_type": "display_data"
    }
   ],
   "source": [
    "# dodatkowo wyświetlenie wykresu z listą zapisanych strat\n",
    "import matplotlib.pyplot as plt\n",
    "plt.plot(losses)"
   ]
  },
  {
   "cell_type": "markdown",
   "id": "353a3eed-dc86-4d24-a24b-5a99c56093ac",
   "metadata": {},
   "source": [
    "### Testowanie modelu"
   ]
  },
  {
   "cell_type": "code",
   "execution_count": 11,
   "id": "22a6113a-0763-45fd-9b0f-de7a21bb586d",
   "metadata": {},
   "outputs": [
    {
     "data": {
      "text/html": [
       "<div>\n",
       "<style scoped>\n",
       "    .dataframe tbody tr th:only-of-type {\n",
       "        vertical-align: middle;\n",
       "    }\n",
       "\n",
       "    .dataframe tbody tr th {\n",
       "        vertical-align: top;\n",
       "    }\n",
       "\n",
       "    .dataframe thead th {\n",
       "        text-align: right;\n",
       "    }\n",
       "</style>\n",
       "<table border=\"1\" class=\"dataframe\">\n",
       "  <thead>\n",
       "    <tr style=\"text-align: right;\">\n",
       "      <th></th>\n",
       "      <th>Unnamed: 0</th>\n",
       "      <th>labels</th>\n",
       "      <th>text</th>\n",
       "      <th>enc_labels</th>\n",
       "      <th>embeddings</th>\n",
       "    </tr>\n",
       "  </thead>\n",
       "  <tbody>\n",
       "    <tr>\n",
       "      <th>23670</th>\n",
       "      <td>23670</td>\n",
       "      <td>hi</td>\n",
       "      <td>लेकिन मुझे गर ् व है कि उम तुम जानते हो कि मैं...</td>\n",
       "      <td>7</td>\n",
       "      <td>[0.007848164, -0.0036651262, 0.026494134, -0.0...</td>\n",
       "    </tr>\n",
       "    <tr>\n",
       "      <th>21449</th>\n",
       "      <td>21449</td>\n",
       "      <td>hi</td>\n",
       "      <td>यदि आपके पास improvisation और विस ् तृत आइटेनर...</td>\n",
       "      <td>7</td>\n",
       "      <td>[-0.010298273, -0.017707799, -0.02271023, -0.0...</td>\n",
       "    </tr>\n",
       "    <tr>\n",
       "      <th>25404</th>\n",
       "      <td>25404</td>\n",
       "      <td>tr</td>\n",
       "      <td>Bireysel suçlular00000000000000000000000000000...</td>\n",
       "      <td>16</td>\n",
       "      <td>[-0.037312314, 0.017532881, 0.022066459, -0.04...</td>\n",
       "    </tr>\n",
       "    <tr>\n",
       "      <th>25319</th>\n",
       "      <td>25319</td>\n",
       "      <td>en</td>\n",
       "      <td>It's very easy to put on and is comfortable to...</td>\n",
       "      <td>4</td>\n",
       "      <td>[-0.024336461, 0.00472564, -0.025661621, 0.043...</td>\n",
       "    </tr>\n",
       "    <tr>\n",
       "      <th>20535</th>\n",
       "      <td>20535</td>\n",
       "      <td>pt</td>\n",
       "      <td>Dois surfistas a surfar uma pequena onda.00000...</td>\n",
       "      <td>12</td>\n",
       "      <td>[-0.03310102, 0.015431527, 0.013763826, -0.039...</td>\n",
       "    </tr>\n",
       "    <tr>\n",
       "      <th>28794</th>\n",
       "      <td>28794</td>\n",
       "      <td>ja</td>\n",
       "      <td>TypeC接続口で、耐久性が良さそうです。外見かっこがよく、充電完了状態もはっきりわかるので...</td>\n",
       "      <td>9</td>\n",
       "      <td>[0.00017168712, 0.083534606, 0.08145847, 0.032...</td>\n",
       "    </tr>\n",
       "    <tr>\n",
       "      <th>6166</th>\n",
       "      <td>6166</td>\n",
       "      <td>tr</td>\n",
       "      <td>Zengin irlandalı sesi açık : hepsi çok iyi .00...</td>\n",
       "      <td>16</td>\n",
       "      <td>[-0.05426027, 0.12750795, -0.081845865, 0.0187...</td>\n",
       "    </tr>\n",
       "    <tr>\n",
       "      <th>49266</th>\n",
       "      <td>49266</td>\n",
       "      <td>vi</td>\n",
       "      <td>Để thực hiện một đánh giá đáng tin cậy dữ liệu...</td>\n",
       "      <td>18</td>\n",
       "      <td>[-0.06975354, 0.081752874, 0.017580966, -0.079...</td>\n",
       "    </tr>\n",
       "    <tr>\n",
       "      <th>25775</th>\n",
       "      <td>25775</td>\n",
       "      <td>nl</td>\n",
       "      <td>Een wit schaap op een helling die naar de came...</td>\n",
       "      <td>10</td>\n",
       "      <td>[-0.112950735, 0.08583607, 0.01273587, -0.0934...</td>\n",
       "    </tr>\n",
       "    <tr>\n",
       "      <th>16020</th>\n",
       "      <td>16020</td>\n",
       "      <td>pl</td>\n",
       "      <td>Później wypadli z gry i poparli w ostatnich la...</td>\n",
       "      <td>11</td>\n",
       "      <td>[-0.07266634, 0.0544975, -0.05350853, -0.03557...</td>\n",
       "    </tr>\n",
       "  </tbody>\n",
       "</table>\n",
       "</div>"
      ],
      "text/plain": [
       "       Unnamed: 0 labels                                               text  \\\n",
       "23670       23670     hi  लेकिन मुझे गर ् व है कि उम तुम जानते हो कि मैं...   \n",
       "21449       21449     hi  यदि आपके पास improvisation और विस ् तृत आइटेनर...   \n",
       "25404       25404     tr  Bireysel suçlular00000000000000000000000000000...   \n",
       "25319       25319     en  It's very easy to put on and is comfortable to...   \n",
       "20535       20535     pt  Dois surfistas a surfar uma pequena onda.00000...   \n",
       "28794       28794     ja  TypeC接続口で、耐久性が良さそうです。外見かっこがよく、充電完了状態もはっきりわかるので...   \n",
       "6166         6166     tr  Zengin irlandalı sesi açık : hepsi çok iyi .00...   \n",
       "49266       49266     vi  Để thực hiện một đánh giá đáng tin cậy dữ liệu...   \n",
       "25775       25775     nl  Een wit schaap op een helling die naar de came...   \n",
       "16020       16020     pl  Później wypadli z gry i poparli w ostatnich la...   \n",
       "\n",
       "       enc_labels                                         embeddings  \n",
       "23670           7  [0.007848164, -0.0036651262, 0.026494134, -0.0...  \n",
       "21449           7  [-0.010298273, -0.017707799, -0.02271023, -0.0...  \n",
       "25404          16  [-0.037312314, 0.017532881, 0.022066459, -0.04...  \n",
       "25319           4  [-0.024336461, 0.00472564, -0.025661621, 0.043...  \n",
       "20535          12  [-0.03310102, 0.015431527, 0.013763826, -0.039...  \n",
       "28794           9  [0.00017168712, 0.083534606, 0.08145847, 0.032...  \n",
       "6166           16  [-0.05426027, 0.12750795, -0.081845865, 0.0187...  \n",
       "49266          18  [-0.06975354, 0.081752874, 0.017580966, -0.079...  \n",
       "25775          10  [-0.112950735, 0.08583607, 0.01273587, -0.0934...  \n",
       "16020          11  [-0.07266634, 0.0544975, -0.05350853, -0.03557...  "
      ]
     },
     "execution_count": 11,
     "metadata": {},
     "output_type": "execute_result"
    }
   ],
   "source": [
    "# wyjświetlenie pierwszych 10 lini dla test_df\n",
    "test_df.head(n=10)"
   ]
  },
  {
   "cell_type": "code",
   "execution_count": 12,
   "id": "4af1a2f3-e9f8-4ece-a104-3b7ac1ee3060",
   "metadata": {},
   "outputs": [
    {
     "name": "stdout",
     "output_type": "stream",
     "text": [
      "[(0, 'ar'), (1, 'bg'), (2, 'de'), (3, 'el'), (4, 'en'), (5, 'es'), (6, 'fr'), (7, 'hi'), (8, 'it'), (9, 'ja'), (10, 'nl'), (11, 'pl'), (12, 'pt'), (13, 'ru'), (14, 'sw'), (15, 'th'), (16, 'tr'), (17, 'ur'), (18, 'vi'), (19, 'zh')]\n"
     ]
    }
   ],
   "source": [
    "# Utworzenie słownika z istniejących języków i posortowanie go od 0 do 19\n",
    "lang_dict = sorted(dict(zip(df['enc_labels'], df['labels'])).items())\n",
    "print(lang_dict)"
   ]
  },
  {
   "cell_type": "code",
   "execution_count": 16,
   "id": "e0c2acb2-fc93-4dfb-9c0f-a491ba0864b3",
   "metadata": {},
   "outputs": [],
   "source": [
    "import torch.nn.functional as F\n",
    "\n",
    "# Przygotowanie danych testowych\n",
    "test_embeddings = torch.Tensor(np.array(test_df['embeddings'].tolist()))\n",
    "\n",
    "# Uzyskanie predykcji dla danych testowych\n",
    "test_pred = model.forward(test_embeddings)\n",
    "\n",
    "# Przekształcenie wyników predykcji na prawdopodobieństwa przy użyciu funkcji softmax\n",
    "test_prob = F.softmax(test_pred, dim=1)\n",
    "\n",
    "# Znalezienie indeksu klasy z najwyższym prawdopodobieństwem dla każdego przykładu\n",
    "pred_indexes = torch.argmax(test_prob, dim=1)\n",
    "\n",
    "# Przetłumaczenie indeksów klas na odpowiadające języki\n",
    "pred_lang = [lang_dict[i.item()] for i in pred_indexes]"
   ]
  },
  {
   "cell_type": "code",
   "execution_count": 17,
   "id": "d7de5cf2-4916-4d3f-bbf3-519826c9ccab",
   "metadata": {},
   "outputs": [
    {
     "data": {
      "text/html": [
       "<div>\n",
       "<style scoped>\n",
       "    .dataframe tbody tr th:only-of-type {\n",
       "        vertical-align: middle;\n",
       "    }\n",
       "\n",
       "    .dataframe tbody tr th {\n",
       "        vertical-align: top;\n",
       "    }\n",
       "\n",
       "    .dataframe thead th {\n",
       "        text-align: right;\n",
       "    }\n",
       "</style>\n",
       "<table border=\"1\" class=\"dataframe\">\n",
       "  <thead>\n",
       "    <tr style=\"text-align: right;\">\n",
       "      <th></th>\n",
       "      <th>labels</th>\n",
       "      <th>predicted_language</th>\n",
       "      <th>text</th>\n",
       "    </tr>\n",
       "  </thead>\n",
       "  <tbody>\n",
       "    <tr>\n",
       "      <th>23670</th>\n",
       "      <td>hi</td>\n",
       "      <td>(7, hi)</td>\n",
       "      <td>लेकिन मुझे गर ् व है कि उम तुम जानते हो कि मैं...</td>\n",
       "    </tr>\n",
       "    <tr>\n",
       "      <th>21449</th>\n",
       "      <td>hi</td>\n",
       "      <td>(7, hi)</td>\n",
       "      <td>यदि आपके पास improvisation और विस ् तृत आइटेनर...</td>\n",
       "    </tr>\n",
       "    <tr>\n",
       "      <th>25404</th>\n",
       "      <td>tr</td>\n",
       "      <td>(16, tr)</td>\n",
       "      <td>Bireysel suçlular00000000000000000000000000000...</td>\n",
       "    </tr>\n",
       "    <tr>\n",
       "      <th>25319</th>\n",
       "      <td>en</td>\n",
       "      <td>(4, en)</td>\n",
       "      <td>It's very easy to put on and is comfortable to...</td>\n",
       "    </tr>\n",
       "    <tr>\n",
       "      <th>20535</th>\n",
       "      <td>pt</td>\n",
       "      <td>(12, pt)</td>\n",
       "      <td>Dois surfistas a surfar uma pequena onda.00000...</td>\n",
       "    </tr>\n",
       "    <tr>\n",
       "      <th>28794</th>\n",
       "      <td>ja</td>\n",
       "      <td>(9, ja)</td>\n",
       "      <td>TypeC接続口で、耐久性が良さそうです。外見かっこがよく、充電完了状態もはっきりわかるので...</td>\n",
       "    </tr>\n",
       "    <tr>\n",
       "      <th>6166</th>\n",
       "      <td>tr</td>\n",
       "      <td>(16, tr)</td>\n",
       "      <td>Zengin irlandalı sesi açık : hepsi çok iyi .00...</td>\n",
       "    </tr>\n",
       "    <tr>\n",
       "      <th>49266</th>\n",
       "      <td>vi</td>\n",
       "      <td>(18, vi)</td>\n",
       "      <td>Để thực hiện một đánh giá đáng tin cậy dữ liệu...</td>\n",
       "    </tr>\n",
       "    <tr>\n",
       "      <th>25775</th>\n",
       "      <td>nl</td>\n",
       "      <td>(10, nl)</td>\n",
       "      <td>Een wit schaap op een helling die naar de came...</td>\n",
       "    </tr>\n",
       "    <tr>\n",
       "      <th>16020</th>\n",
       "      <td>pl</td>\n",
       "      <td>(11, pl)</td>\n",
       "      <td>Później wypadli z gry i poparli w ostatnich la...</td>\n",
       "    </tr>\n",
       "    <tr>\n",
       "      <th>25337</th>\n",
       "      <td>fr</td>\n",
       "      <td>(6, fr)</td>\n",
       "      <td>Durée de vie 3 mois pour un usage quotidien, u...</td>\n",
       "    </tr>\n",
       "    <tr>\n",
       "      <th>48746</th>\n",
       "      <td>fr</td>\n",
       "      <td>(6, fr)</td>\n",
       "      <td>la coque a l'air bien robuste, les coins sont ...</td>\n",
       "    </tr>\n",
       "    <tr>\n",
       "      <th>14762</th>\n",
       "      <td>ja</td>\n",
       "      <td>(9, ja)</td>\n",
       "      <td>中古でゴムチューブ欠損してました。 これじゃあできません… 書いてなかったのに…無駄なお金使...</td>\n",
       "    </tr>\n",
       "    <tr>\n",
       "      <th>40908</th>\n",
       "      <td>vi</td>\n",
       "      <td>(18, vi)</td>\n",
       "      <td>Và tôi nghĩ tốt nếu tôi cưỡi xe đạp của tôi gi...</td>\n",
       "    </tr>\n",
       "    <tr>\n",
       "      <th>11209</th>\n",
       "      <td>ru</td>\n",
       "      <td>(13, ru)</td>\n",
       "      <td>Новый редактор Чарльз Лейн заменяет Майкла Кел...</td>\n",
       "    </tr>\n",
       "    <tr>\n",
       "      <th>18184</th>\n",
       "      <td>fr</td>\n",
       "      <td>(6, fr)</td>\n",
       "      <td>Le nom donné lui correspond très bien. Il enlè...</td>\n",
       "    </tr>\n",
       "    <tr>\n",
       "      <th>43854</th>\n",
       "      <td>nl</td>\n",
       "      <td>(11, pl)</td>\n",
       "      <td>New Jersey School Bans Knuffelen00000000000000...</td>\n",
       "    </tr>\n",
       "    <tr>\n",
       "      <th>36842</th>\n",
       "      <td>tr</td>\n",
       "      <td>(16, tr)</td>\n",
       "      <td>Poirot , az bir törenle her şeyi yere php .000...</td>\n",
       "    </tr>\n",
       "    <tr>\n",
       "      <th>6395</th>\n",
       "      <td>tr</td>\n",
       "      <td>(16, tr)</td>\n",
       "      <td>Bradley ' nin , gore ' un da gore kadar garip ...</td>\n",
       "    </tr>\n",
       "    <tr>\n",
       "      <th>27416</th>\n",
       "      <td>es</td>\n",
       "      <td>(5, es)</td>\n",
       "      <td>Me ha llegado usado, rajado y con manchas de a...</td>\n",
       "    </tr>\n",
       "    <tr>\n",
       "      <th>22350</th>\n",
       "      <td>pl</td>\n",
       "      <td>(11, pl)</td>\n",
       "      <td>Tom Kraynak, kierownik ds. operacji i zasobów ...</td>\n",
       "    </tr>\n",
       "    <tr>\n",
       "      <th>48052</th>\n",
       "      <td>tr</td>\n",
       "      <td>(16, tr)</td>\n",
       "      <td>Oğul hakkındaki her hikaye , demokratik içgüdü...</td>\n",
       "    </tr>\n",
       "    <tr>\n",
       "      <th>29802</th>\n",
       "      <td>hi</td>\n",
       "      <td>(7, hi)</td>\n",
       "      <td>महिलाएं चुपचाप नहीं जाती , अपने रास ् ते पर एक...</td>\n",
       "    </tr>\n",
       "    <tr>\n",
       "      <th>18089</th>\n",
       "      <td>pl</td>\n",
       "      <td>(11, pl)</td>\n",
       "      <td>Przyjeżdża jeszcze w tym tygodniu z pierwszą s...</td>\n",
       "    </tr>\n",
       "    <tr>\n",
       "      <th>8665</th>\n",
       "      <td>fr</td>\n",
       "      <td>(6, fr)</td>\n",
       "      <td>Les gobelets se déforment et se déchirent lors...</td>\n",
       "    </tr>\n",
       "    <tr>\n",
       "      <th>865</th>\n",
       "      <td>ru</td>\n",
       "      <td>(13, ru)</td>\n",
       "      <td>Как говорится в главе 1 , финансовые ревизии с...</td>\n",
       "    </tr>\n",
       "    <tr>\n",
       "      <th>15266</th>\n",
       "      <td>hi</td>\n",
       "      <td>(7, hi)</td>\n",
       "      <td>स ् पष ् ट आकाश अधिनियम के लिए अनुमानित वार ् ...</td>\n",
       "    </tr>\n",
       "    <tr>\n",
       "      <th>23345</th>\n",
       "      <td>ar</td>\n",
       "      <td>(0, ar)</td>\n",
       "      <td>\" و انت ايضا استمع , ايها القائد \"000000000000...</td>\n",
       "    </tr>\n",
       "    <tr>\n",
       "      <th>8890</th>\n",
       "      <td>hi</td>\n",
       "      <td>(7, hi)</td>\n",
       "      <td>हाँ मैं अकेला हो रहा हूँ और अपने आप के लिए कोई...</td>\n",
       "    </tr>\n",
       "    <tr>\n",
       "      <th>3326</th>\n",
       "      <td>de</td>\n",
       "      <td>(2, de)</td>\n",
       "      <td>Die Tasche haben wir für ein Beistellbettchen ...</td>\n",
       "    </tr>\n",
       "  </tbody>\n",
       "</table>\n",
       "</div>"
      ],
      "text/plain": [
       "      labels predicted_language  \\\n",
       "23670     hi            (7, hi)   \n",
       "21449     hi            (7, hi)   \n",
       "25404     tr           (16, tr)   \n",
       "25319     en            (4, en)   \n",
       "20535     pt           (12, pt)   \n",
       "28794     ja            (9, ja)   \n",
       "6166      tr           (16, tr)   \n",
       "49266     vi           (18, vi)   \n",
       "25775     nl           (10, nl)   \n",
       "16020     pl           (11, pl)   \n",
       "25337     fr            (6, fr)   \n",
       "48746     fr            (6, fr)   \n",
       "14762     ja            (9, ja)   \n",
       "40908     vi           (18, vi)   \n",
       "11209     ru           (13, ru)   \n",
       "18184     fr            (6, fr)   \n",
       "43854     nl           (11, pl)   \n",
       "36842     tr           (16, tr)   \n",
       "6395      tr           (16, tr)   \n",
       "27416     es            (5, es)   \n",
       "22350     pl           (11, pl)   \n",
       "48052     tr           (16, tr)   \n",
       "29802     hi            (7, hi)   \n",
       "18089     pl           (11, pl)   \n",
       "8665      fr            (6, fr)   \n",
       "865       ru           (13, ru)   \n",
       "15266     hi            (7, hi)   \n",
       "23345     ar            (0, ar)   \n",
       "8890      hi            (7, hi)   \n",
       "3326      de            (2, de)   \n",
       "\n",
       "                                                    text  \n",
       "23670  लेकिन मुझे गर ् व है कि उम तुम जानते हो कि मैं...  \n",
       "21449  यदि आपके पास improvisation और विस ् तृत आइटेनर...  \n",
       "25404  Bireysel suçlular00000000000000000000000000000...  \n",
       "25319  It's very easy to put on and is comfortable to...  \n",
       "20535  Dois surfistas a surfar uma pequena onda.00000...  \n",
       "28794  TypeC接続口で、耐久性が良さそうです。外見かっこがよく、充電完了状態もはっきりわかるので...  \n",
       "6166   Zengin irlandalı sesi açık : hepsi çok iyi .00...  \n",
       "49266  Để thực hiện một đánh giá đáng tin cậy dữ liệu...  \n",
       "25775  Een wit schaap op een helling die naar de came...  \n",
       "16020  Później wypadli z gry i poparli w ostatnich la...  \n",
       "25337  Durée de vie 3 mois pour un usage quotidien, u...  \n",
       "48746  la coque a l'air bien robuste, les coins sont ...  \n",
       "14762  中古でゴムチューブ欠損してました。 これじゃあできません… 書いてなかったのに…無駄なお金使...  \n",
       "40908  Và tôi nghĩ tốt nếu tôi cưỡi xe đạp của tôi gi...  \n",
       "11209  Новый редактор Чарльз Лейн заменяет Майкла Кел...  \n",
       "18184  Le nom donné lui correspond très bien. Il enlè...  \n",
       "43854  New Jersey School Bans Knuffelen00000000000000...  \n",
       "36842  Poirot , az bir törenle her şeyi yere php .000...  \n",
       "6395   Bradley ' nin , gore ' un da gore kadar garip ...  \n",
       "27416  Me ha llegado usado, rajado y con manchas de a...  \n",
       "22350  Tom Kraynak, kierownik ds. operacji i zasobów ...  \n",
       "48052  Oğul hakkındaki her hikaye , demokratik içgüdü...  \n",
       "29802  महिलाएं चुपचाप नहीं जाती , अपने रास ् ते पर एक...  \n",
       "18089  Przyjeżdża jeszcze w tym tygodniu z pierwszą s...  \n",
       "8665   Les gobelets se déforment et se déchirent lors...  \n",
       "865    Как говорится в главе 1 , финансовые ревизии с...  \n",
       "15266  स ् पष ् ट आकाश अधिनियम के लिए अनुमानित वार ् ...  \n",
       "23345  \" و انت ايضا استمع , ايها القائد \"000000000000...  \n",
       "8890   हाँ मैं अकेला हो रहा हूँ और अपने आप के लिए कोई...  \n",
       "3326   Die Tasche haben wir für ein Beistellbettchen ...  "
      ]
     },
     "execution_count": 17,
     "metadata": {},
     "output_type": "execute_result"
    }
   ],
   "source": [
    "tested_df = test_df.copy()\n",
    "\n",
    "# Dodanie przewidywanych języków do ramki danych testowych\n",
    "tested_df['predicted_language'] = pred_lang\n",
    "\n",
    "# Wyświetlenie przewidywanych języków dla danych testowych (30 pierwszych pozycji)\n",
    "tested_df[['labels', 'predicted_language', 'text']].head(n=30)"
   ]
  }
 ],
 "metadata": {
  "kernelspec": {
   "display_name": "Python 3 (ipykernel)",
   "language": "python",
   "name": "python3"
  },
  "language_info": {
   "codemirror_mode": {
    "name": "ipython",
    "version": 3
   },
   "file_extension": ".py",
   "mimetype": "text/x-python",
   "name": "python",
   "nbconvert_exporter": "python",
   "pygments_lexer": "ipython3",
   "version": "3.10.12"
  }
 },
 "nbformat": 4,
 "nbformat_minor": 5
}
